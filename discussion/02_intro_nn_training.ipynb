{
 "cells": [
  {
   "attachments": {},
   "cell_type": "markdown",
   "metadata": {},
   "source": [
    "<a href=\"https://colab.research.google.com/github/DL4DS/sp2024_notebooks/blob/main/discussion/02_intro_nn_training.ipynb\" target=\"_blank\"><img src=\"https://colab.research.google.com/assets/colab-badge.svg\" alt=\"Open In Colab\"/></a>"
   ]
  },
  {
   "attachments": {},
   "cell_type": "markdown",
   "metadata": {},
   "source": [
    "# Disc3"
   ]
  },
  {
   "attachments": {},
   "cell_type": "markdown",
   "metadata": {},
   "source": [
    "Goal:\n",
    "* Intro to Model Training in Pytorch (image classification, text classification)"
   ]
  },
  {
   "cell_type": "code",
   "execution_count": 1,
   "metadata": {},
   "outputs": [
    {
     "name": "stdout",
     "output_type": "stream",
     "text": [
      "Requirement already satisfied: pip in /Users/xavierohan/anaconda3/envs/dl4ds/lib/python3.9/site-packages (24.0)\n",
      "Requirement already satisfied: torchsummary in /Users/xavierohan/anaconda3/envs/dl4ds/lib/python3.9/site-packages (1.5.1)\n",
      "Requirement already satisfied: seaborn in /Users/xavierohan/anaconda3/envs/dl4ds/lib/python3.9/site-packages (0.13.2)\n",
      "Requirement already satisfied: numpy!=1.24.0,>=1.20 in /Users/xavierohan/anaconda3/envs/dl4ds/lib/python3.9/site-packages (from seaborn) (1.26.3)\n",
      "Requirement already satisfied: pandas>=1.2 in /Users/xavierohan/anaconda3/envs/dl4ds/lib/python3.9/site-packages (from seaborn) (2.1.4)\n",
      "Requirement already satisfied: matplotlib!=3.6.1,>=3.4 in /Users/xavierohan/anaconda3/envs/dl4ds/lib/python3.9/site-packages (from seaborn) (3.8.2)\n",
      "Requirement already satisfied: contourpy>=1.0.1 in /Users/xavierohan/anaconda3/envs/dl4ds/lib/python3.9/site-packages (from matplotlib!=3.6.1,>=3.4->seaborn) (1.2.0)\n",
      "Requirement already satisfied: cycler>=0.10 in /Users/xavierohan/anaconda3/envs/dl4ds/lib/python3.9/site-packages (from matplotlib!=3.6.1,>=3.4->seaborn) (0.12.1)\n",
      "Requirement already satisfied: fonttools>=4.22.0 in /Users/xavierohan/anaconda3/envs/dl4ds/lib/python3.9/site-packages (from matplotlib!=3.6.1,>=3.4->seaborn) (4.47.2)\n",
      "Requirement already satisfied: kiwisolver>=1.3.1 in /Users/xavierohan/anaconda3/envs/dl4ds/lib/python3.9/site-packages (from matplotlib!=3.6.1,>=3.4->seaborn) (1.4.5)\n",
      "Requirement already satisfied: packaging>=20.0 in /Users/xavierohan/anaconda3/envs/dl4ds/lib/python3.9/site-packages (from matplotlib!=3.6.1,>=3.4->seaborn) (23.2)\n",
      "Requirement already satisfied: pillow>=8 in /Users/xavierohan/anaconda3/envs/dl4ds/lib/python3.9/site-packages (from matplotlib!=3.6.1,>=3.4->seaborn) (10.1.0)\n",
      "Requirement already satisfied: pyparsing>=2.3.1 in /Users/xavierohan/anaconda3/envs/dl4ds/lib/python3.9/site-packages (from matplotlib!=3.6.1,>=3.4->seaborn) (3.1.1)\n",
      "Requirement already satisfied: python-dateutil>=2.7 in /Users/xavierohan/anaconda3/envs/dl4ds/lib/python3.9/site-packages (from matplotlib!=3.6.1,>=3.4->seaborn) (2.8.2)\n",
      "Requirement already satisfied: importlib-resources>=3.2.0 in /Users/xavierohan/anaconda3/envs/dl4ds/lib/python3.9/site-packages (from matplotlib!=3.6.1,>=3.4->seaborn) (6.1.1)\n",
      "Requirement already satisfied: pytz>=2020.1 in /Users/xavierohan/anaconda3/envs/dl4ds/lib/python3.9/site-packages (from pandas>=1.2->seaborn) (2023.3.post1)\n",
      "Requirement already satisfied: tzdata>=2022.1 in /Users/xavierohan/anaconda3/envs/dl4ds/lib/python3.9/site-packages (from pandas>=1.2->seaborn) (2023.4)\n",
      "Requirement already satisfied: zipp>=3.1.0 in /Users/xavierohan/anaconda3/envs/dl4ds/lib/python3.9/site-packages (from importlib-resources>=3.2.0->matplotlib!=3.6.1,>=3.4->seaborn) (3.17.0)\n",
      "Requirement already satisfied: six>=1.5 in /Users/xavierohan/anaconda3/envs/dl4ds/lib/python3.9/site-packages (from python-dateutil>=2.7->matplotlib!=3.6.1,>=3.4->seaborn) (1.16.0)\n",
      "Requirement already satisfied: tabulate in /Users/xavierohan/anaconda3/envs/dl4ds/lib/python3.9/site-packages (0.9.0)\n"
     ]
    }
   ],
   "source": [
    "# installs\n",
    "!pip install --upgrade pip\n",
    "!pip install -U torchsummary\n",
    "!pip install seaborn\n",
    "!pip install tabulate"
   ]
  },
  {
   "cell_type": "code",
   "execution_count": 2,
   "metadata": {},
   "outputs": [
    {
     "name": "stderr",
     "output_type": "stream",
     "text": [
      "/Users/xavierohan/anaconda3/envs/dl4ds/lib/python3.9/site-packages/torchvision/io/image.py:13: UserWarning: Failed to load image Python extension: 'dlopen(/Users/xavierohan/anaconda3/envs/dl4ds/lib/python3.9/site-packages/torchvision/image.so, 0x0006): Symbol not found: __ZN3c1017RegisterOperatorsD1Ev\n",
      "  Referenced from: <2ACC9186-30B9-352C-9670-84BB544BCD8F> /Users/xavierohan/anaconda3/envs/dl4ds/lib/python3.9/site-packages/torchvision/image.so\n",
      "  Expected in:     <ADC0A61A-5B83-3A02-975F-EE5DFF441305> /Users/xavierohan/anaconda3/envs/dl4ds/lib/python3.9/site-packages/torch/lib/libtorch_cpu.dylib'If you don't plan on using image functionality from `torchvision.io`, you can ignore this warning. Otherwise, there might be something wrong with your environment. Did you have `libjpeg` or `libpng` installed before building `torchvision` from source?\n",
      "  warn(\n",
      "/Users/xavierohan/anaconda3/envs/dl4ds/lib/python3.9/site-packages/transformers/utils/generic.py:441: UserWarning: torch.utils._pytree._register_pytree_node is deprecated. Please use torch.utils._pytree.register_pytree_node instead.\n",
      "  _torch_pytree._register_pytree_node(\n",
      "[nltk_data] Downloading collection 'all'\n",
      "[nltk_data]    | \n",
      "[nltk_data]    | Downloading package abc to\n",
      "[nltk_data]    |     /Users/xavierohan/nltk_data...\n",
      "[nltk_data]    |   Package abc is already up-to-date!\n",
      "[nltk_data]    | Downloading package alpino to\n",
      "[nltk_data]    |     /Users/xavierohan/nltk_data...\n",
      "[nltk_data]    |   Package alpino is already up-to-date!\n",
      "[nltk_data]    | Downloading package averaged_perceptron_tagger to\n",
      "[nltk_data]    |     /Users/xavierohan/nltk_data...\n",
      "[nltk_data]    |   Package averaged_perceptron_tagger is already up-\n",
      "[nltk_data]    |       to-date!\n",
      "[nltk_data]    | Downloading package averaged_perceptron_tagger_ru to\n",
      "[nltk_data]    |     /Users/xavierohan/nltk_data...\n",
      "[nltk_data]    |   Package averaged_perceptron_tagger_ru is already\n",
      "[nltk_data]    |       up-to-date!\n",
      "[nltk_data]    | Downloading package basque_grammars to\n",
      "[nltk_data]    |     /Users/xavierohan/nltk_data...\n",
      "[nltk_data]    |   Package basque_grammars is already up-to-date!\n",
      "[nltk_data]    | Downloading package bcp47 to\n",
      "[nltk_data]    |     /Users/xavierohan/nltk_data...\n",
      "[nltk_data]    |   Package bcp47 is already up-to-date!\n",
      "[nltk_data]    | Downloading package biocreative_ppi to\n",
      "[nltk_data]    |     /Users/xavierohan/nltk_data...\n",
      "[nltk_data]    |   Package biocreative_ppi is already up-to-date!\n",
      "[nltk_data]    | Downloading package bllip_wsj_no_aux to\n",
      "[nltk_data]    |     /Users/xavierohan/nltk_data...\n",
      "[nltk_data]    |   Package bllip_wsj_no_aux is already up-to-date!\n",
      "[nltk_data]    | Downloading package book_grammars to\n",
      "[nltk_data]    |     /Users/xavierohan/nltk_data...\n",
      "[nltk_data]    |   Package book_grammars is already up-to-date!\n",
      "[nltk_data]    | Downloading package brown to\n",
      "[nltk_data]    |     /Users/xavierohan/nltk_data...\n",
      "[nltk_data]    |   Package brown is already up-to-date!\n",
      "[nltk_data]    | Downloading package brown_tei to\n",
      "[nltk_data]    |     /Users/xavierohan/nltk_data...\n",
      "[nltk_data]    |   Package brown_tei is already up-to-date!\n",
      "[nltk_data]    | Downloading package cess_cat to\n",
      "[nltk_data]    |     /Users/xavierohan/nltk_data...\n",
      "[nltk_data]    |   Package cess_cat is already up-to-date!\n",
      "[nltk_data]    | Downloading package cess_esp to\n",
      "[nltk_data]    |     /Users/xavierohan/nltk_data...\n",
      "[nltk_data]    |   Package cess_esp is already up-to-date!\n",
      "[nltk_data]    | Downloading package chat80 to\n",
      "[nltk_data]    |     /Users/xavierohan/nltk_data...\n",
      "[nltk_data]    |   Package chat80 is already up-to-date!\n",
      "[nltk_data]    | Downloading package city_database to\n",
      "[nltk_data]    |     /Users/xavierohan/nltk_data...\n",
      "[nltk_data]    |   Package city_database is already up-to-date!\n",
      "[nltk_data]    | Downloading package cmudict to\n",
      "[nltk_data]    |     /Users/xavierohan/nltk_data...\n",
      "[nltk_data]    |   Package cmudict is already up-to-date!\n",
      "[nltk_data]    | Downloading package comparative_sentences to\n",
      "[nltk_data]    |     /Users/xavierohan/nltk_data...\n",
      "[nltk_data]    |   Package comparative_sentences is already up-to-\n",
      "[nltk_data]    |       date!\n",
      "[nltk_data]    | Downloading package comtrans to\n",
      "[nltk_data]    |     /Users/xavierohan/nltk_data...\n",
      "[nltk_data]    |   Package comtrans is already up-to-date!\n",
      "[nltk_data]    | Downloading package conll2000 to\n",
      "[nltk_data]    |     /Users/xavierohan/nltk_data...\n",
      "[nltk_data]    |   Package conll2000 is already up-to-date!\n",
      "[nltk_data]    | Downloading package conll2002 to\n",
      "[nltk_data]    |     /Users/xavierohan/nltk_data...\n",
      "[nltk_data]    |   Package conll2002 is already up-to-date!\n",
      "[nltk_data]    | Downloading package conll2007 to\n",
      "[nltk_data]    |     /Users/xavierohan/nltk_data...\n",
      "[nltk_data]    |   Package conll2007 is already up-to-date!\n",
      "[nltk_data]    | Downloading package crubadan to\n",
      "[nltk_data]    |     /Users/xavierohan/nltk_data...\n",
      "[nltk_data]    |   Package crubadan is already up-to-date!\n",
      "[nltk_data]    | Downloading package dependency_treebank to\n",
      "[nltk_data]    |     /Users/xavierohan/nltk_data...\n",
      "[nltk_data]    |   Package dependency_treebank is already up-to-date!\n",
      "[nltk_data]    | Downloading package dolch to\n",
      "[nltk_data]    |     /Users/xavierohan/nltk_data...\n",
      "[nltk_data]    |   Package dolch is already up-to-date!\n",
      "[nltk_data]    | Downloading package europarl_raw to\n",
      "[nltk_data]    |     /Users/xavierohan/nltk_data...\n",
      "[nltk_data]    |   Package europarl_raw is already up-to-date!\n",
      "[nltk_data]    | Downloading package extended_omw to\n",
      "[nltk_data]    |     /Users/xavierohan/nltk_data...\n",
      "[nltk_data]    |   Package extended_omw is already up-to-date!\n",
      "[nltk_data]    | Downloading package floresta to\n",
      "[nltk_data]    |     /Users/xavierohan/nltk_data...\n",
      "[nltk_data]    |   Package floresta is already up-to-date!\n",
      "[nltk_data]    | Downloading package framenet_v15 to\n",
      "[nltk_data]    |     /Users/xavierohan/nltk_data...\n",
      "[nltk_data]    |   Package framenet_v15 is already up-to-date!\n",
      "[nltk_data]    | Downloading package framenet_v17 to\n",
      "[nltk_data]    |     /Users/xavierohan/nltk_data...\n",
      "[nltk_data]    |   Package framenet_v17 is already up-to-date!\n",
      "[nltk_data]    | Downloading package gazetteers to\n",
      "[nltk_data]    |     /Users/xavierohan/nltk_data...\n",
      "[nltk_data]    |   Package gazetteers is already up-to-date!\n",
      "[nltk_data]    | Downloading package genesis to\n",
      "[nltk_data]    |     /Users/xavierohan/nltk_data...\n",
      "[nltk_data]    |   Package genesis is already up-to-date!\n",
      "[nltk_data]    | Downloading package gutenberg to\n",
      "[nltk_data]    |     /Users/xavierohan/nltk_data...\n",
      "[nltk_data]    |   Package gutenberg is already up-to-date!\n",
      "[nltk_data]    | Downloading package ieer to\n",
      "[nltk_data]    |     /Users/xavierohan/nltk_data...\n",
      "[nltk_data]    |   Package ieer is already up-to-date!\n",
      "[nltk_data]    | Downloading package inaugural to\n",
      "[nltk_data]    |     /Users/xavierohan/nltk_data...\n",
      "[nltk_data]    |   Package inaugural is already up-to-date!\n",
      "[nltk_data]    | Downloading package indian to\n",
      "[nltk_data]    |     /Users/xavierohan/nltk_data...\n",
      "[nltk_data]    |   Package indian is already up-to-date!\n",
      "[nltk_data]    | Downloading package jeita to\n",
      "[nltk_data]    |     /Users/xavierohan/nltk_data...\n",
      "[nltk_data]    |   Package jeita is already up-to-date!\n",
      "[nltk_data]    | Downloading package kimmo to\n",
      "[nltk_data]    |     /Users/xavierohan/nltk_data...\n",
      "[nltk_data]    |   Package kimmo is already up-to-date!\n",
      "[nltk_data]    | Downloading package knbc to\n",
      "[nltk_data]    |     /Users/xavierohan/nltk_data...\n",
      "[nltk_data]    |   Package knbc is already up-to-date!\n",
      "[nltk_data]    | Downloading package large_grammars to\n",
      "[nltk_data]    |     /Users/xavierohan/nltk_data...\n",
      "[nltk_data]    |   Package large_grammars is already up-to-date!\n",
      "[nltk_data]    | Downloading package lin_thesaurus to\n",
      "[nltk_data]    |     /Users/xavierohan/nltk_data...\n",
      "[nltk_data]    |   Package lin_thesaurus is already up-to-date!\n",
      "[nltk_data]    | Downloading package mac_morpho to\n",
      "[nltk_data]    |     /Users/xavierohan/nltk_data...\n",
      "[nltk_data]    |   Package mac_morpho is already up-to-date!\n",
      "[nltk_data]    | Downloading package machado to\n",
      "[nltk_data]    |     /Users/xavierohan/nltk_data...\n",
      "[nltk_data]    |   Package machado is already up-to-date!\n",
      "[nltk_data]    | Downloading package masc_tagged to\n",
      "[nltk_data]    |     /Users/xavierohan/nltk_data...\n",
      "[nltk_data]    |   Package masc_tagged is already up-to-date!\n",
      "[nltk_data]    | Downloading package maxent_ne_chunker to\n",
      "[nltk_data]    |     /Users/xavierohan/nltk_data...\n",
      "[nltk_data]    |   Package maxent_ne_chunker is already up-to-date!\n",
      "[nltk_data]    | Downloading package maxent_treebank_pos_tagger to\n",
      "[nltk_data]    |     /Users/xavierohan/nltk_data...\n",
      "[nltk_data]    |   Package maxent_treebank_pos_tagger is already up-\n",
      "[nltk_data]    |       to-date!\n",
      "[nltk_data]    | Downloading package moses_sample to\n",
      "[nltk_data]    |     /Users/xavierohan/nltk_data...\n",
      "[nltk_data]    |   Package moses_sample is already up-to-date!\n",
      "[nltk_data]    | Downloading package movie_reviews to\n",
      "[nltk_data]    |     /Users/xavierohan/nltk_data...\n",
      "[nltk_data]    |   Package movie_reviews is already up-to-date!\n",
      "[nltk_data]    | Downloading package mte_teip5 to\n",
      "[nltk_data]    |     /Users/xavierohan/nltk_data...\n",
      "[nltk_data]    |   Package mte_teip5 is already up-to-date!\n",
      "[nltk_data]    | Downloading package mwa_ppdb to\n",
      "[nltk_data]    |     /Users/xavierohan/nltk_data...\n",
      "[nltk_data]    |   Package mwa_ppdb is already up-to-date!\n",
      "[nltk_data]    | Downloading package names to\n",
      "[nltk_data]    |     /Users/xavierohan/nltk_data...\n",
      "[nltk_data]    |   Package names is already up-to-date!\n",
      "[nltk_data]    | Downloading package nombank.1.0 to\n",
      "[nltk_data]    |     /Users/xavierohan/nltk_data...\n",
      "[nltk_data]    |   Package nombank.1.0 is already up-to-date!\n",
      "[nltk_data]    | Downloading package nonbreaking_prefixes to\n",
      "[nltk_data]    |     /Users/xavierohan/nltk_data...\n",
      "[nltk_data]    |   Package nonbreaking_prefixes is already up-to-date!\n",
      "[nltk_data]    | Downloading package nps_chat to\n",
      "[nltk_data]    |     /Users/xavierohan/nltk_data...\n",
      "[nltk_data]    |   Package nps_chat is already up-to-date!\n",
      "[nltk_data]    | Downloading package omw to\n",
      "[nltk_data]    |     /Users/xavierohan/nltk_data...\n",
      "[nltk_data]    |   Package omw is already up-to-date!\n",
      "[nltk_data]    | Downloading package omw-1.4 to\n",
      "[nltk_data]    |     /Users/xavierohan/nltk_data...\n",
      "[nltk_data]    |   Package omw-1.4 is already up-to-date!\n",
      "[nltk_data]    | Downloading package opinion_lexicon to\n",
      "[nltk_data]    |     /Users/xavierohan/nltk_data...\n",
      "[nltk_data]    |   Package opinion_lexicon is already up-to-date!\n",
      "[nltk_data]    | Downloading package panlex_swadesh to\n",
      "[nltk_data]    |     /Users/xavierohan/nltk_data...\n",
      "[nltk_data]    |   Package panlex_swadesh is already up-to-date!\n",
      "[nltk_data]    | Downloading package paradigms to\n",
      "[nltk_data]    |     /Users/xavierohan/nltk_data...\n",
      "[nltk_data]    |   Package paradigms is already up-to-date!\n",
      "[nltk_data]    | Downloading package pe08 to\n",
      "[nltk_data]    |     /Users/xavierohan/nltk_data...\n",
      "[nltk_data]    |   Package pe08 is already up-to-date!\n",
      "[nltk_data]    | Downloading package perluniprops to\n",
      "[nltk_data]    |     /Users/xavierohan/nltk_data...\n",
      "[nltk_data]    |   Package perluniprops is already up-to-date!\n",
      "[nltk_data]    | Downloading package pil to\n",
      "[nltk_data]    |     /Users/xavierohan/nltk_data...\n",
      "[nltk_data]    |   Package pil is already up-to-date!\n",
      "[nltk_data]    | Downloading package pl196x to\n",
      "[nltk_data]    |     /Users/xavierohan/nltk_data...\n",
      "[nltk_data]    |   Package pl196x is already up-to-date!\n",
      "[nltk_data]    | Downloading package porter_test to\n",
      "[nltk_data]    |     /Users/xavierohan/nltk_data...\n",
      "[nltk_data]    |   Package porter_test is already up-to-date!\n",
      "[nltk_data]    | Downloading package ppattach to\n",
      "[nltk_data]    |     /Users/xavierohan/nltk_data...\n",
      "[nltk_data]    |   Package ppattach is already up-to-date!\n",
      "[nltk_data]    | Downloading package problem_reports to\n",
      "[nltk_data]    |     /Users/xavierohan/nltk_data...\n",
      "[nltk_data]    |   Package problem_reports is already up-to-date!\n",
      "[nltk_data]    | Downloading package product_reviews_1 to\n",
      "[nltk_data]    |     /Users/xavierohan/nltk_data...\n",
      "[nltk_data]    |   Package product_reviews_1 is already up-to-date!\n",
      "[nltk_data]    | Downloading package product_reviews_2 to\n",
      "[nltk_data]    |     /Users/xavierohan/nltk_data...\n",
      "[nltk_data]    |   Package product_reviews_2 is already up-to-date!\n",
      "[nltk_data]    | Downloading package propbank to\n",
      "[nltk_data]    |     /Users/xavierohan/nltk_data...\n",
      "[nltk_data]    |   Package propbank is already up-to-date!\n",
      "[nltk_data]    | Downloading package pros_cons to\n",
      "[nltk_data]    |     /Users/xavierohan/nltk_data...\n",
      "[nltk_data]    |   Package pros_cons is already up-to-date!\n",
      "[nltk_data]    | Downloading package ptb to\n",
      "[nltk_data]    |     /Users/xavierohan/nltk_data...\n",
      "[nltk_data]    |   Package ptb is already up-to-date!\n",
      "[nltk_data]    | Downloading package punkt to\n",
      "[nltk_data]    |     /Users/xavierohan/nltk_data...\n",
      "[nltk_data]    |   Package punkt is already up-to-date!\n",
      "[nltk_data]    | Downloading package qc to\n",
      "[nltk_data]    |     /Users/xavierohan/nltk_data...\n",
      "[nltk_data]    |   Package qc is already up-to-date!\n",
      "[nltk_data]    | Downloading package reuters to\n",
      "[nltk_data]    |     /Users/xavierohan/nltk_data...\n",
      "[nltk_data]    |   Package reuters is already up-to-date!\n",
      "[nltk_data]    | Downloading package rslp to\n",
      "[nltk_data]    |     /Users/xavierohan/nltk_data...\n",
      "[nltk_data]    |   Package rslp is already up-to-date!\n",
      "[nltk_data]    | Downloading package rte to\n",
      "[nltk_data]    |     /Users/xavierohan/nltk_data...\n",
      "[nltk_data]    |   Package rte is already up-to-date!\n",
      "[nltk_data]    | Downloading package sample_grammars to\n",
      "[nltk_data]    |     /Users/xavierohan/nltk_data...\n",
      "[nltk_data]    |   Package sample_grammars is already up-to-date!\n",
      "[nltk_data]    | Downloading package semcor to\n",
      "[nltk_data]    |     /Users/xavierohan/nltk_data...\n",
      "[nltk_data]    |   Package semcor is already up-to-date!\n",
      "[nltk_data]    | Downloading package senseval to\n",
      "[nltk_data]    |     /Users/xavierohan/nltk_data...\n",
      "[nltk_data]    |   Package senseval is already up-to-date!\n",
      "[nltk_data]    | Downloading package sentence_polarity to\n",
      "[nltk_data]    |     /Users/xavierohan/nltk_data...\n",
      "[nltk_data]    |   Package sentence_polarity is already up-to-date!\n",
      "[nltk_data]    | Downloading package sentiwordnet to\n",
      "[nltk_data]    |     /Users/xavierohan/nltk_data...\n",
      "[nltk_data]    |   Package sentiwordnet is already up-to-date!\n",
      "[nltk_data]    | Downloading package shakespeare to\n",
      "[nltk_data]    |     /Users/xavierohan/nltk_data...\n",
      "[nltk_data]    |   Package shakespeare is already up-to-date!\n",
      "[nltk_data]    | Downloading package sinica_treebank to\n",
      "[nltk_data]    |     /Users/xavierohan/nltk_data...\n",
      "[nltk_data]    |   Package sinica_treebank is already up-to-date!\n",
      "[nltk_data]    | Downloading package smultron to\n",
      "[nltk_data]    |     /Users/xavierohan/nltk_data...\n",
      "[nltk_data]    |   Package smultron is already up-to-date!\n",
      "[nltk_data]    | Downloading package snowball_data to\n",
      "[nltk_data]    |     /Users/xavierohan/nltk_data...\n",
      "[nltk_data]    |   Package snowball_data is already up-to-date!\n",
      "[nltk_data]    | Downloading package spanish_grammars to\n",
      "[nltk_data]    |     /Users/xavierohan/nltk_data...\n",
      "[nltk_data]    |   Package spanish_grammars is already up-to-date!\n",
      "[nltk_data]    | Downloading package state_union to\n",
      "[nltk_data]    |     /Users/xavierohan/nltk_data...\n",
      "[nltk_data]    |   Package state_union is already up-to-date!\n",
      "[nltk_data]    | Downloading package stopwords to\n",
      "[nltk_data]    |     /Users/xavierohan/nltk_data...\n",
      "[nltk_data]    |   Package stopwords is already up-to-date!\n",
      "[nltk_data]    | Downloading package subjectivity to\n",
      "[nltk_data]    |     /Users/xavierohan/nltk_data...\n",
      "[nltk_data]    |   Package subjectivity is already up-to-date!\n",
      "[nltk_data]    | Downloading package swadesh to\n",
      "[nltk_data]    |     /Users/xavierohan/nltk_data...\n",
      "[nltk_data]    |   Package swadesh is already up-to-date!\n",
      "[nltk_data]    | Downloading package switchboard to\n",
      "[nltk_data]    |     /Users/xavierohan/nltk_data...\n",
      "[nltk_data]    |   Package switchboard is already up-to-date!\n",
      "[nltk_data]    | Downloading package tagsets to\n",
      "[nltk_data]    |     /Users/xavierohan/nltk_data...\n",
      "[nltk_data]    |   Package tagsets is already up-to-date!\n",
      "[nltk_data]    | Downloading package timit to\n",
      "[nltk_data]    |     /Users/xavierohan/nltk_data...\n",
      "[nltk_data]    |   Package timit is already up-to-date!\n",
      "[nltk_data]    | Downloading package toolbox to\n",
      "[nltk_data]    |     /Users/xavierohan/nltk_data...\n",
      "[nltk_data]    |   Package toolbox is already up-to-date!\n",
      "[nltk_data]    | Downloading package treebank to\n",
      "[nltk_data]    |     /Users/xavierohan/nltk_data...\n",
      "[nltk_data]    |   Package treebank is already up-to-date!\n",
      "[nltk_data]    | Downloading package twitter_samples to\n",
      "[nltk_data]    |     /Users/xavierohan/nltk_data...\n",
      "[nltk_data]    |   Package twitter_samples is already up-to-date!\n",
      "[nltk_data]    | Downloading package udhr to\n",
      "[nltk_data]    |     /Users/xavierohan/nltk_data...\n",
      "[nltk_data]    |   Package udhr is already up-to-date!\n",
      "[nltk_data]    | Downloading package udhr2 to\n",
      "[nltk_data]    |     /Users/xavierohan/nltk_data...\n",
      "[nltk_data]    |   Package udhr2 is already up-to-date!\n",
      "[nltk_data]    | Downloading package unicode_samples to\n",
      "[nltk_data]    |     /Users/xavierohan/nltk_data...\n",
      "[nltk_data]    |   Package unicode_samples is already up-to-date!\n",
      "[nltk_data]    | Downloading package universal_tagset to\n",
      "[nltk_data]    |     /Users/xavierohan/nltk_data...\n",
      "[nltk_data]    |   Package universal_tagset is already up-to-date!\n",
      "[nltk_data]    | Downloading package universal_treebanks_v20 to\n",
      "[nltk_data]    |     /Users/xavierohan/nltk_data...\n",
      "[nltk_data]    |   Package universal_treebanks_v20 is already up-to-\n",
      "[nltk_data]    |       date!\n",
      "[nltk_data]    | Downloading package vader_lexicon to\n",
      "[nltk_data]    |     /Users/xavierohan/nltk_data...\n",
      "[nltk_data]    |   Package vader_lexicon is already up-to-date!\n",
      "[nltk_data]    | Downloading package verbnet to\n",
      "[nltk_data]    |     /Users/xavierohan/nltk_data...\n",
      "[nltk_data]    |   Package verbnet is already up-to-date!\n",
      "[nltk_data]    | Downloading package verbnet3 to\n",
      "[nltk_data]    |     /Users/xavierohan/nltk_data...\n",
      "[nltk_data]    |   Package verbnet3 is already up-to-date!\n",
      "[nltk_data]    | Downloading package webtext to\n",
      "[nltk_data]    |     /Users/xavierohan/nltk_data...\n",
      "[nltk_data]    |   Package webtext is already up-to-date!\n",
      "[nltk_data]    | Downloading package wmt15_eval to\n",
      "[nltk_data]    |     /Users/xavierohan/nltk_data...\n",
      "[nltk_data]    |   Package wmt15_eval is already up-to-date!\n",
      "[nltk_data]    | Downloading package word2vec_sample to\n",
      "[nltk_data]    |     /Users/xavierohan/nltk_data...\n",
      "[nltk_data]    |   Package word2vec_sample is already up-to-date!\n",
      "[nltk_data]    | Downloading package wordnet to\n",
      "[nltk_data]    |     /Users/xavierohan/nltk_data...\n",
      "[nltk_data]    |   Package wordnet is already up-to-date!\n",
      "[nltk_data]    | Downloading package wordnet2021 to\n",
      "[nltk_data]    |     /Users/xavierohan/nltk_data...\n",
      "[nltk_data]    |   Package wordnet2021 is already up-to-date!\n",
      "[nltk_data]    | Downloading package wordnet2022 to\n",
      "[nltk_data]    |     /Users/xavierohan/nltk_data...\n",
      "[nltk_data]    |   Package wordnet2022 is already up-to-date!\n",
      "[nltk_data]    | Downloading package wordnet31 to\n",
      "[nltk_data]    |     /Users/xavierohan/nltk_data...\n",
      "[nltk_data]    |   Package wordnet31 is already up-to-date!\n",
      "[nltk_data]    | Downloading package wordnet_ic to\n",
      "[nltk_data]    |     /Users/xavierohan/nltk_data...\n",
      "[nltk_data]    |   Package wordnet_ic is already up-to-date!\n",
      "[nltk_data]    | Downloading package words to\n",
      "[nltk_data]    |     /Users/xavierohan/nltk_data...\n",
      "[nltk_data]    |   Package words is already up-to-date!\n",
      "[nltk_data]    | Downloading package ycoe to\n",
      "[nltk_data]    |     /Users/xavierohan/nltk_data...\n",
      "[nltk_data]    |   Package ycoe is already up-to-date!\n",
      "[nltk_data]    | \n",
      "[nltk_data]  Done downloading collection all\n"
     ]
    },
    {
     "data": {
      "text/plain": [
       "True"
      ]
     },
     "execution_count": 2,
     "metadata": {},
     "output_type": "execute_result"
    }
   ],
   "source": [
    "# imports\n",
    "import numpy as np\n",
    "import torch\n",
    "import torchvision\n",
    "import matplotlib.pyplot as plt\n",
    "from time import time\n",
    "from torchvision import datasets, transforms\n",
    "from torch import nn, optim\n",
    "from torchsummary import summary\n",
    "from PIL import Image\n",
    "import torchvision.transforms.functional as F\n",
    "from copy import deepcopy\n",
    "import seaborn as sns\n",
    "from tabulate import tabulate\n",
    "from torch.utils.data import TensorDataset, DataLoader, RandomSampler, SequentialSampler\n",
    "import random\n",
    "import numpy as np\n",
    "import nltk\n",
    "nltk.download(\"all\")"
   ]
  },
  {
   "attachments": {},
   "cell_type": "markdown",
   "metadata": {},
   "source": [
    "---"
   ]
  },
  {
   "attachments": {},
   "cell_type": "markdown",
   "metadata": {},
   "source": [
    "# Loss Functions"
   ]
  },
  {
   "attachments": {},
   "cell_type": "markdown",
   "metadata": {},
   "source": [
    "Divided it into mainly two:\n",
    "1. Regression Loss Functions - Used when the model is predicting a continuous value, like the price of a house or a person's age.\n",
    "2. Classification Loss Functions - Used when the model is predicting a discrete value, like whether an email is spam or not, or whether an image contains a cat or a dog.\n",
    "\n"
   ]
  },
  {
   "attachments": {},
   "cell_type": "markdown",
   "metadata": {},
   "source": [
    "## Regression Problems"
   ]
  },
  {
   "attachments": {},
   "cell_type": "markdown",
   "metadata": {},
   "source": [
    "### Mean Absolute Error (MAE)"
   ]
  },
  {
   "attachments": {},
   "cell_type": "markdown",
   "metadata": {},
   "source": [
    "``nn.L1Loss``\n",
    "\n",
    "- Also called L1 loss.\n",
    "- Computes the ``magnitude`` of the error, without considering the direction (positive or negative) of the error.    \n",
    "- If abs() was not used, the positive and negative errors could cancel each other out.\n",
    "\n",
    "Where it's useful:    \n",
    " - Regression problems, especially when there are outliers (points that are far away from the rest of the data). MAE is considered to be robust to outliers."
   ]
  },
  {
   "attachments": {},
   "cell_type": "markdown",
   "metadata": {},
   "source": [
    "### Mean Squared Error (MSE)"
   ]
  },
  {
   "attachments": {},
   "cell_type": "markdown",
   "metadata": {},
   "source": [
    "``nn.MSELoss()``\n",
    "\n",
    "- Also called L2 loss.\n",
    "- Computes the average of the ``squared differences`` between the actual and predicted values.\n",
    "- The squaring implies that larger mistakes result in much larger errors than smaller mistakes, giving more weight to larger errors. (if the classifier was off by 100, the error would be 10,000, but if it was off by 0.1, the error would be 0.01). Thereby, L2 loss punishes the model for making large errors more severely than MAE.\n",
    "\n",
    "Where it's useful:\n",
    "\n",
    "- Regression Problems"
   ]
  },
  {
   "attachments": {},
   "cell_type": "markdown",
   "metadata": {},
   "source": [
    "### MAE vs MSE"
   ]
  },
  {
   "cell_type": "code",
   "execution_count": 48,
   "metadata": {},
   "outputs": [
    {
     "data": {
      "image/png": "[encoded data removed]",
      "text/plain": [
       "<Figure size 1000x600 with 1 Axes>"
      ]
     },
     "metadata": {},
     "output_type": "display_data"
    },
    {
     "data": {
      "image/png": "[encoded data removed]",
      "text/plain": [
       "<Figure size 1000x600 with 1 Axes>"
      ]
     },
     "metadata": {},
     "output_type": "display_data"
    }
   ],
   "source": [
    "import torch\n",
    "import torch.nn as nn\n",
    "import torch.optim\n",
    "import matplotlib.pyplot as plt\n",
    "\n",
    "\n",
    "torch.manual_seed(0)  # Set seed for reproducibility\n",
    "\n",
    "# Generate a 1D input dataset\n",
    "ip = torch.linspace(-3, 3, 100).view(-1, 1)  # Evenly spaced points in 1D\n",
    "a, b = 2, 1  # Linear relationship parameters\n",
    "target = a * ip + b + torch.randn(ip.size()) * 0.5  # Adding some noise\n",
    "\n",
    "# Introduce outliers\n",
    "num_outliers = 20\n",
    "outliers_indices = torch.randint(75, 100, (num_outliers,))  # Choose outliers towards one end\n",
    "for i in outliers_indices:\n",
    "    target[i] += 15 * torch.sign(torch.randn(1))  # Significantly offset outliers individually\n",
    "\n",
    "# Define the LinearRegression model class\n",
    "class LinearRegression(nn.Module):\n",
    "    def __init__(self, input_dim, output_dim):\n",
    "        super(LinearRegression, self).__init__()\n",
    "        self.hidden = nn.Linear(input_dim, 5)\n",
    "        self.linear = nn.Linear(5, output_dim)\n",
    "    \n",
    "    def forward(self, x):\n",
    "        x = torch.relu(self.hidden(x))\n",
    "        return self.linear(x)\n",
    "\n",
    "# Adjusted function for 1D input\n",
    "def train_and_plot(model, criterion, optimizer, ip, target, title):\n",
    "    for epoch in range(1000):  # More iterations for a clearer difference\n",
    "        outputs = model(ip)\n",
    "        loss = criterion(outputs, target)\n",
    "        optimizer.zero_grad()\n",
    "        loss.backward()\n",
    "        optimizer.step()\n",
    "\n",
    "    # Plotting\n",
    "    plt.figure(figsize=(10, 6))\n",
    "    plt.scatter(ip.numpy(), target.numpy(), color='blue', label='Actual data')\n",
    "    with torch.no_grad():\n",
    "        ip_range = torch.linspace(ip.min(), ip.max(), 100).view(-1, 1)\n",
    "        predicted = model(ip_range).numpy()\n",
    "        plt.plot(ip_range.numpy(), predicted, color='red', label='Model prediction')\n",
    "    plt.title(title)\n",
    "    plt.xlabel('Input Feature')\n",
    "    plt.ylabel('Target')\n",
    "    plt.legend()\n",
    "    plt.show()\n",
    "\n",
    "input_dim = 1\n",
    "output_dim = 1\n",
    "\n",
    "# Train and plot with MSE\n",
    "model_mse = LinearRegression(input_dim, output_dim)\n",
    "optimizer_mse = torch.optim.SGD(model_mse.parameters(), lr=0.01)\n",
    "mse_loss = nn.MSELoss()\n",
    "train_and_plot(model_mse, mse_loss, optimizer_mse, ip, target, 'Regression with MSE')\n",
    "\n",
    "# Train and plot with MAE\n",
    "model_mae = LinearRegression(input_dim, output_dim)\n",
    "optimizer_mae = torch.optim.SGD(model_mae.parameters(), lr=0.01)\n",
    "mae_loss = nn.L1Loss()\n",
    "train_and_plot(model_mae, mae_loss, optimizer_mae, ip, target, 'Regression with MAE')\n"
   ]
  },
  {
   "attachments": {},
   "cell_type": "markdown",
   "metadata": {},
   "source": [
    "Note:\n",
    "\n",
    "For both L1 and L2 loss, you can pass in the reduction method (none, sum, mean) as an argument to the loss function. The default is mean."
   ]
  },
  {
   "attachments": {},
   "cell_type": "markdown",
   "metadata": {},
   "source": [
    "## Classification Problems"
   ]
  },
  {
   "attachments": {},
   "cell_type": "markdown",
   "metadata": {},
   "source": [
    "### Binary Classification\n",
    "\n",
    "#### Binary Cross Entropy Loss\n",
    "\n",
    "``nn.BCELoss()``\n",
    "* Used when there are only two classes.\n",
    "* Output of the model is usually a Sigmoid Layer, that squashes the output between 0 and 1.\n",
    "* Target is \n",
    "\n",
    "Alternative: ``nn.BCEWithLogitsLoss()`` - Combines a Sigmoid layer and the BCELoss in one single class."
   ]
  },
  {
   "cell_type": "code",
   "execution_count": 4,
   "metadata": {},
   "outputs": [
    {
     "name": "stdout",
     "output_type": "stream",
     "text": [
      "input: tensor([[-1.2000,  3.7000,  8.0000]]), sigmoid_output: tensor([[0.2315, 0.9759, 0.9997]]), target: tensor([[1., 0., 0.]]), loss: 4.3960280418396\n",
      "input: tensor([[-1.2000,  3.7000,  8.0000]]), sigmoid_output: tensor([[0.2315, 0.9759, 0.9997]]), target: tensor([[0., 1., 1.]]), loss: 0.09601356834173203\n"
     ]
    }
   ],
   "source": [
    "from torch import nn\n",
    "criterion = nn.BCELoss()\n",
    "\n",
    "\n",
    "input = torch.tensor([[-1.2, 3.7, 8.0]], dtype=torch.float)\n",
    "sigmoid_output = nn.functional.sigmoid(input)\n",
    "target_1 = torch.tensor([[1, 0, 0]], dtype=torch.float)\n",
    "loss_1 = criterion(sigmoid_output, target_1)\n",
    "print(f\"input: {input}, sigmoid_output: {sigmoid_output}, target: {target_1}, loss: {loss_1}\")\n",
    "\n",
    "target_2 = torch.tensor([[0, 1, 1]], dtype=torch.float)  # Example of a different target\n",
    "sigmoid_output = nn.functional.sigmoid(input)\n",
    "loss_2 = criterion(sigmoid_output, target_2)\n",
    "print(f\"input: {input}, sigmoid_output: {sigmoid_output}, target: {target_2}, loss: {loss_2}\")"
   ]
  },
  {
   "attachments": {},
   "cell_type": "markdown",
   "metadata": {},
   "source": [
    "### Multi-Class Classification"
   ]
  },
  {
   "attachments": {},
   "cell_type": "markdown",
   "metadata": {},
   "source": [
    "#### Cross Entropy Loss"
   ]
  },
  {
   "attachments": {},
   "cell_type": "markdown",
   "metadata": {},
   "source": [
    "``nn.CrossEntropyLoss()``\n",
    "\n",
    "- Used for multi-class classification problems.\n",
    "- Expects raw scores (logits) for each class as input, and applies the softmax function internally to convert the scores into probabilities.\n"
   ]
  },
  {
   "cell_type": "code",
   "execution_count": 5,
   "metadata": {},
   "outputs": [
    {
     "name": "stdout",
     "output_type": "stream",
     "text": [
      "input: tensor([[3.2000, 1.3000, 0.2000, 0.8000]]), target: tensor([3]), loss: 2.6546993255615234\n",
      "input: tensor([[3.2000, 1.3000, 0.2000, 0.8000]]), target: tensor([0]), loss: 0.2546992003917694\n"
     ]
    }
   ],
   "source": [
    "from torch import nn\n",
    "criterion = nn.CrossEntropyLoss()\n",
    "input = torch.tensor([[3.2, 1.3,0.2, 0.8]],dtype=torch.float)\n",
    "\n",
    "target_1 = torch.tensor([3], dtype=torch.long)\n",
    "print(f\"input: {input}, target: {target_1}, loss: {criterion(input, target_1)}\")\n",
    "\n",
    "target_2 = torch.tensor([0], dtype=torch.long)\n",
    "print(f\"input: {input}, target: {target_2}, loss: {criterion(input, target_2)}\")"
   ]
  },
  {
   "cell_type": "code",
   "execution_count": 6,
   "metadata": {},
   "outputs": [
    {
     "name": "stdout",
     "output_type": "stream",
     "text": [
      "input: tensor([[3.2000, 1.3000, 0.2000, 8.0000]]), target: tensor([3]), loss: 0.009822015650570393\n"
     ]
    }
   ],
   "source": [
    "input = torch.tensor([[3.2, 1.3,0.2, 8.0]],dtype=torch.float)\n",
    "target = torch.tensor([3], dtype=torch.long)\n",
    "\n",
    "print(f\"input: {input}, target: {target}, loss: {criterion(input, target)}\")"
   ]
  },
  {
   "attachments": {},
   "cell_type": "markdown",
   "metadata": {},
   "source": [
    "Note: The input to the loss function is expected to contain raw, unnormalized scores for each class. The target is the class label."
   ]
  },
  {
   "attachments": {},
   "cell_type": "markdown",
   "metadata": {},
   "source": [
    "### What is a good cross-entropy score?\n",
    "\n",
    "- Cross-Entropy = 0.00: Perfect probabilities.\n",
    "- Cross-Entropy < 0.02: Great probabilities.\n",
    "- Cross-Entropy < 0.05: On the right track.\n",
    "- Cross-Entropy < 0.20: Fine.\n",
    "- Cross-Entropy > 0.30: Not great.\n",
    "- Cross-Entropy > 1.00: Terrible.\n",
    "- Cross-Entropy > 2.00 Something is broken.\n",
    "\n",
    "Ref: https://machinelearningmastery.com/cross-entropy-for-machine-learning/"
   ]
  },
  {
   "attachments": {},
   "cell_type": "markdown",
   "metadata": {},
   "source": [
    "## Small Note on Activation Functions\n",
    "\n",
    "Wether or not you use a activation function in the last layer depends on the loss function you are using and the problem setting. For example, if you are using BCELoss, you should use a Sigmoid activation function in the last layer. If you are using CrossEntropyLoss, you do not have to pass the outputs through any activation function. Same for when your task is regression, you do not have to pass the outputs through any activation function."
   ]
  },
  {
   "attachments": {},
   "cell_type": "markdown",
   "metadata": {},
   "source": [
    "---"
   ]
  },
  {
   "attachments": {},
   "cell_type": "markdown",
   "metadata": {},
   "source": [
    "### Helper Functions"
   ]
  },
  {
   "cell_type": "code",
   "execution_count": 7,
   "metadata": {},
   "outputs": [],
   "source": [
    "# Helper functions\n",
    "\n",
    "def view_classify(img, logits):\n",
    "    ''' Function for viewing an image and its predicted classes.\n",
    "    '''\n",
    "    ps = nn.functional.softmax(logits, dim=1).data.numpy().squeeze()\n",
    "\n",
    "    fig, (ax1, ax2) = plt.subplots(figsize=(6,9), ncols=2)\n",
    "    # Ensure the image is displayed in grayscale\n",
    "    ax1.imshow(img.resize_(1, 28, 28).numpy().squeeze(), cmap='gray')\n",
    "    ax1.axis('off')\n",
    "    ax2.barh(np.arange(10), ps)\n",
    "    ax2.set_aspect(0.1)\n",
    "    ax2.set_yticks(np.arange(10))\n",
    "    ax2.set_yticklabels(np.arange(10))\n",
    "    ax2.set_title('Class Probability')\n",
    "    ax2.set_xlim(0, 1.1)\n",
    "    plt.tight_layout()\n",
    "\n",
    "\n",
    "def calculate_metrics(model, loss_fn, data_loader, flatten=False):\n",
    "    # Ensure the model is in evaluation mode\n",
    "    model.eval()\n",
    "    \n",
    "    correct = 0\n",
    "    total = 0\n",
    "    running_loss = 0\n",
    "\n",
    "    # No need to track gradients for validation, thus wrap in torch.no_grad()\n",
    "    with torch.no_grad():\n",
    "        for images, labels in data_loader:\n",
    "            # If your model expects the input images to be flattened, uncomment the following line\n",
    "            if flatten:\n",
    "                images = images.view(images.shape[0], -1)\n",
    "            \n",
    "            outputs = model(images)\n",
    "            loss = loss_fn(outputs, labels)\n",
    "            \n",
    "            # Get the index of the max log-probability as the predicted label\n",
    "            _, predicted = torch.max(outputs.data, 1)\n",
    "            \n",
    "            total += labels.size(0)\n",
    "            correct += (predicted == labels).sum().item()\n",
    "            running_loss += loss.item()\n",
    "\n",
    "    accuracy = 100 * correct / total\n",
    "    loss = running_loss / len(data_loader)\n",
    "    return accuracy, loss\n",
    "\n",
    "def tabulate_results(results):\n",
    "    model_names = list(results.keys())\n",
    "    metrics = list(results[model_names[0]].keys())\n",
    "    table = []\n",
    "    for model_name in model_names:\n",
    "        row = [model_name]\n",
    "        for metric in metrics:\n",
    "            row.append(results[model_name][metric])\n",
    "        table.append(row)\n",
    "    print(tabulate(table, headers=[\"Model\"] + metrics, tablefmt=\"pretty\"))\n",
    "\n",
    "\n",
    "class PerformanceTracker:\n",
    "    def __init__(self):\n",
    "        self.train_losses = []\n",
    "        self.val_losses = []\n",
    "        self.train_accuracies = []\n",
    "        self.val_accuracies = []\n",
    "    \n",
    "    def update_train(self, loss, accuracy):\n",
    "        self.train_losses.append(loss)\n",
    "        self.train_accuracies.append(accuracy)\n",
    "    \n",
    "    def update_val(self, loss, accuracy):\n",
    "        self.val_losses.append(loss)\n",
    "        self.val_accuracies.append(accuracy)\n",
    "    \n",
    "    def plot_metrics(self):\n",
    "        epochs = range(1, len(self.train_losses) + 1)\n",
    "        \n",
    "        plt.figure(figsize=(12, 5))\n",
    "        \n",
    "        plt.subplot(1, 2, 1)\n",
    "        plt.plot(epochs, self.train_losses, 'r-', label='Training Loss')\n",
    "        plt.plot(epochs, self.val_losses, 'b-', label='Validation Loss')\n",
    "        plt.title('Training and Validation Loss')\n",
    "        plt.xlabel('Epochs')\n",
    "        plt.ylabel('Loss')\n",
    "        plt.legend()\n",
    "        \n",
    "        plt.subplot(1, 2, 2)\n",
    "        plt.plot(epochs, self.train_accuracies, 'r-', label='Training Accuracy')\n",
    "        plt.plot(epochs, self.val_accuracies, 'b-', label='Validation Accuracy')\n",
    "        plt.title('Training and Validation Accuracy')\n",
    "        plt.xlabel('Epochs')\n",
    "        plt.ylabel('Accuracy')\n",
    "        plt.legend()\n",
    "        \n",
    "        plt.tight_layout()\n",
    "        plt.show()\n",
    "\n",
    "\n",
    "### Model Training ###\n",
    "\n",
    "def train_model(perofrmance_tracker, model, loss_fn, train_loader, val_loader, epochs=15, lr=0.003, flatten=False):\n",
    "    optimizer = optim.SGD(model.parameters(), lr=lr, momentum=0.9) # Define the optimizer\n",
    "    \n",
    "    train_losses, val_losses = [], []\n",
    "    train_accuracy, val_accuracy = [], []\n",
    "\n",
    "    time0 = time()\n",
    "    \n",
    "    for e in range(epochs):\n",
    "        running_loss = 0\n",
    "        correct = 0\n",
    "        for images, labels in train_loader:\n",
    "            if flatten:\n",
    "                images = images.view(images.shape[0], -1)\n",
    "        \n",
    "            # Training pass\n",
    "\n",
    "            # Clear the gradients, do this because gradients are accumulated, and you would like to avoid mixing of gradients between batches. \n",
    "            # Without zeroing the gradients, every call to .backward() would add gradients to those already stored\n",
    "            optimizer.zero_grad() \n",
    "            \n",
    "            # Forward Pass - During this process Pytorch dynamically creates the computation graph \n",
    "            # (used to track the operations and transformations applied, which is essential for the backward pass (gradient computation).)\n",
    "            output = model(images)\n",
    "            loss = loss_fn(output, labels)\n",
    "            \n",
    "            # This is where the model learns by backpropagating\n",
    "            # Computes the gradient of the loss function with respect to each parameter (weight and bias) in the model. It does this by traversing the computation graph from the loss backwards to the inputs.\n",
    "            loss.backward()\n",
    "            \n",
    "            # And optimizes its weights here\n",
    "            # After calculating the gradients, optimizer.step() is called to update the model parameters based on the computed gradients\n",
    "            # The optimizer applies a specific update rule (defined by the choice of optimizer, e.g., SGD, Adam) to adjust the parameters with the aim of minimizing the loss\n",
    "            optimizer.step()\n",
    "\n",
    "            '''\n",
    "            Summary:\n",
    "            1. Clearing old gradients to ensure that updates are based solely on the current batch.\n",
    "            2. Computing predictions with a forward pass through the model.\n",
    "            3. Calculating the loss to quantify the model's performance on the current batch.\n",
    "            4. Computing gradients for each model parameter with a backward pass.\n",
    "            5. Updating model parameters based on the gradients to minimize the loss.\n",
    "            '''\n",
    "\n",
    "            # Calculate the accuracy\n",
    "            # Convert output probabilities to predicted class (max log probability)\n",
    "            _, predicted = torch.max(output, 1)\n",
    "            \n",
    "            # Increment correct count\n",
    "            correct += (predicted == labels).sum().item()\n",
    "            \n",
    "            running_loss += loss.item()\n",
    "        \n",
    "        train_accuracy = 100 * correct / len(train_loader.dataset)\n",
    "        val_accuracy, val_loss = calculate_metrics(model, loss_fn, val_loader, flatten=flatten)\n",
    "        print(\"Epoch {} - Train loss: {} - Train Accuracy: {} - Val Accuracy: {}\".format(e, \n",
    "            running_loss/len(train_loader), train_accuracy, val_accuracy))\n",
    "        perofrmance_tracker.update_train(running_loss/len(train_loader), train_accuracy)\n",
    "        perofrmance_tracker.update_val(val_loss, val_accuracy)\n",
    "    print(\"\\nTraining Time (in minutes) =\",(time()-time0)/60)\n",
    "\n",
    "    perofrmance_tracker.plot_metrics()\n",
    "\n",
    "### Model Training ###\n",
    "\n",
    "def test_model(model, loss_fn, test_loader, flatten=False):\n",
    "    test_accuracy, test_loss = calculate_metrics(model, loss_fn, test_loader, flatten=flatten)\n",
    "    print(\"Test Accuracy: {}, Test Loss: {}\".format(test_accuracy, test_loss))\n",
    "    return test_accuracy, test_loss"
   ]
  },
  {
   "attachments": {},
   "cell_type": "markdown",
   "metadata": {},
   "source": [
    "---"
   ]
  },
  {
   "attachments": {},
   "cell_type": "markdown",
   "metadata": {},
   "source": [
    "# Image Classification on MNIST"
   ]
  },
  {
   "attachments": {},
   "cell_type": "markdown",
   "metadata": {},
   "source": [
    "![MNIST](https://miro.medium.com/v2/resize:fit:1188/format:webp/1*Ft2rLuO82eItlvJn5HOi9A.png)"
   ]
  },
  {
   "cell_type": "code",
   "execution_count": 8,
   "metadata": {},
   "outputs": [
    {
     "name": "stdout",
     "output_type": "stream",
     "text": [
      "Training set size: 54000\n",
      "Validation set size: 6000\n",
      "Test set size: 10000\n"
     ]
    }
   ],
   "source": [
    "transform = transforms.Compose([transforms.ToTensor(),\n",
    "                              transforms.Normalize((0.5,), (0.5,)), # normalize the pixel values to --> (value - 0.5) / 0.5 --> which transforms the range of the pixel values from [0, 1] to [-1, 1]\n",
    "                              ])\n",
    "\n",
    "trainset = datasets.MNIST('./', download=True, train=True, transform=transform)\n",
    "testset = datasets.MNIST('./', download=True, train=False, transform=transform)\n",
    "# Specify the percentage of the training set to use as validation\n",
    "val_percent = 0.1  # For example, 10% of the training set\n",
    "\n",
    "# Calculate the size of the validation set\n",
    "val_size = int(len(trainset) * val_percent)\n",
    "train_size = len(trainset) - val_size  # The remaining examples will be used for training\n",
    "\n",
    "# Split the trainset into trainset and valset\n",
    "trainset, valset = torch.utils.data.random_split(trainset, [train_size, val_size])\n",
    "\n",
    "print(f\"Training set size: {len(trainset)}\")\n",
    "print(f\"Validation set size: {len(valset)}\")\n",
    "print(f\"Test set size: {len(testset)}\")\n",
    "\n",
    "# Create the dataloaders\n",
    "train_loader = torch.utils.data.DataLoader(trainset, batch_size=64, shuffle=True)\n",
    "val_loader = torch.utils.data.DataLoader(valset, batch_size=64, shuffle=False)\n",
    "test_loader = torch.utils.data.DataLoader(testset, batch_size=64, shuffle=False)\n",
    "\n",
    "mnist_results = {}"
   ]
  },
  {
   "cell_type": "code",
   "execution_count": 9,
   "metadata": {},
   "outputs": [
    {
     "name": "stdout",
     "output_type": "stream",
     "text": [
      "torch.Size([64, 1, 28, 28])\n",
      "torch.Size([64])\n"
     ]
    }
   ],
   "source": [
    "dataiter = iter(train_loader)\n",
    "images, labels = next(dataiter)\n",
    "\n",
    "print(images.shape)\n",
    "print(labels.shape)"
   ]
  },
  {
   "cell_type": "code",
   "execution_count": 10,
   "metadata": {},
   "outputs": [
    {
     "data": {
      "image/png": "[encoded data removed]",
      "text/plain": [
       "<Figure size 640x480 with 60 Axes>"
      ]
     },
     "metadata": {},
     "output_type": "display_data"
    }
   ],
   "source": [
    "figure = plt.figure()\n",
    "num_of_images = 60\n",
    "for index in range(1, num_of_images + 1):\n",
    "    plt.subplot(6, 10, index)\n",
    "    plt.axis('off')\n",
    "    plt.imshow(images[index].numpy().squeeze(), cmap='gray_r')\n"
   ]
  },
  {
   "attachments": {},
   "cell_type": "markdown",
   "metadata": {},
   "source": [
    "![title](https://miro.medium.com/v2/resize:fit:1400/format:webp/1*HWhBextdDSkxYvz0kEMTVg.png)"
   ]
  },
  {
   "cell_type": "code",
   "execution_count": 11,
   "metadata": {},
   "outputs": [
    {
     "name": "stdout",
     "output_type": "stream",
     "text": [
      "Sequential(\n",
      "  (0): Linear(in_features=784, out_features=128, bias=True)\n",
      "  (1): ReLU()\n",
      "  (2): Linear(in_features=128, out_features=64, bias=True)\n",
      "  (3): ReLU()\n",
      "  (4): Linear(in_features=64, out_features=10, bias=True)\n",
      ")\n"
     ]
    }
   ],
   "source": [
    "input_size = 784 # 28x28 - Flattening the image\n",
    "hidden_sizes = [128, 64]\n",
    "output_size = 10\n",
    "\n",
    "loss_fn = nn.CrossEntropyLoss() # Define the loss\n",
    "\n",
    "model = nn.Sequential(nn.Linear(input_size, hidden_sizes[0]),\n",
    "                      nn.ReLU(),\n",
    "                      nn.Linear(hidden_sizes[0], hidden_sizes[1]),\n",
    "                      nn.ReLU(),\n",
    "                      nn.Linear(hidden_sizes[1], output_size))\n",
    "print(model)\n",
    "untrained_model = deepcopy(model)"
   ]
  },
  {
   "attachments": {},
   "cell_type": "markdown",
   "metadata": {},
   "source": [
    "**Note**: In Pytorch, nn.CrossEntropyLoss() computes softmax internally, so we don't need to apply softmax to the output layer.\n",
    "\n",
    "nn.CrossEntropyLoss() is equivalent to nn.LogSoftmax() + nn.NLLLoss()."
   ]
  },
  {
   "cell_type": "code",
   "execution_count": 12,
   "metadata": {},
   "outputs": [
    {
     "name": "stdout",
     "output_type": "stream",
     "text": [
      "----------------------------------------------------------------\n",
      "        Layer (type)               Output Shape         Param #\n",
      "================================================================\n",
      "            Linear-1               [-1, 1, 128]         100,480\n",
      "              ReLU-2               [-1, 1, 128]               0\n",
      "            Linear-3                [-1, 1, 64]           8,256\n",
      "              ReLU-4                [-1, 1, 64]               0\n",
      "            Linear-5                [-1, 1, 10]             650\n",
      "================================================================\n",
      "Total params: 109,386\n",
      "Trainable params: 109,386\n",
      "Non-trainable params: 0\n",
      "----------------------------------------------------------------\n",
      "Input size (MB): 0.00\n",
      "Forward/backward pass size (MB): 0.00\n",
      "Params size (MB): 0.42\n",
      "Estimated Total Size (MB): 0.42\n",
      "----------------------------------------------------------------\n"
     ]
    }
   ],
   "source": [
    "summary(model, (1, 784))"
   ]
  },
  {
   "cell_type": "code",
   "execution_count": 13,
   "metadata": {},
   "outputs": [
    {
     "name": "stdout",
     "output_type": "stream",
     "text": [
      "Epoch 0 - Train loss: 0.6535548080571031 - Train Accuracy: 81.82222222222222 - Val Accuracy: 90.16666666666667\n",
      "Epoch 1 - Train loss: 0.29603921314833853 - Train Accuracy: 91.27037037037037 - Val Accuracy: 92.63333333333334\n",
      "Epoch 2 - Train loss: 0.23701330737797852 - Train Accuracy: 93.02037037037037 - Val Accuracy: 93.35\n",
      "Epoch 3 - Train loss: 0.1912896981092073 - Train Accuracy: 94.38518518518518 - Val Accuracy: 94.76666666666667\n",
      "Epoch 4 - Train loss: 0.1602123022339885 - Train Accuracy: 95.2925925925926 - Val Accuracy: 95.23333333333333\n",
      "Epoch 5 - Train loss: 0.13819539724624058 - Train Accuracy: 95.92592592592592 - Val Accuracy: 95.8\n",
      "Epoch 6 - Train loss: 0.1198176264771706 - Train Accuracy: 96.42222222222222 - Val Accuracy: 95.91666666666667\n",
      "Epoch 7 - Train loss: 0.10418186883080167 - Train Accuracy: 96.98148148148148 - Val Accuracy: 96.33333333333333\n",
      "Epoch 8 - Train loss: 0.0937929259683778 - Train Accuracy: 97.23703703703704 - Val Accuracy: 96.43333333333334\n",
      "Epoch 9 - Train loss: 0.08399130396216102 - Train Accuracy: 97.49814814814815 - Val Accuracy: 96.73333333333333\n",
      "Epoch 10 - Train loss: 0.0774448586835292 - Train Accuracy: 97.65925925925926 - Val Accuracy: 96.85\n",
      "Epoch 11 - Train loss: 0.06972534683978812 - Train Accuracy: 97.95370370370371 - Val Accuracy: 96.88333333333334\n",
      "Epoch 12 - Train loss: 0.06474897609990514 - Train Accuracy: 98.05185185185185 - Val Accuracy: 96.81666666666666\n",
      "Epoch 13 - Train loss: 0.06000893880663907 - Train Accuracy: 98.20370370370371 - Val Accuracy: 97.06666666666666\n",
      "Epoch 14 - Train loss: 0.05517650100731366 - Train Accuracy: 98.33703703703704 - Val Accuracy: 96.73333333333333\n",
      "\n",
      "Training Time (in minutes) = 0.6518031517664592\n"
     ]
    },
    {
     "data": {
      "image/png": "[encoded data removed]",
      "text/plain": [
       "<Figure size 1200x500 with 2 Axes>"
      ]
     },
     "metadata": {},
     "output_type": "display_data"
    },
    {
     "name": "stdout",
     "output_type": "stream",
     "text": [
      "Test Accuracy: 97.18, Test Loss: 0.08713187636906922\n"
     ]
    }
   ],
   "source": [
    "performance_tracker = PerformanceTracker()\n",
    "train_model(performance_tracker, model, loss_fn, train_loader, val_loader, epochs=15, lr=0.003, flatten=True)\n",
    "test_acc, test_loss = test_model(model, loss_fn, test_loader, flatten=True)\n",
    "mnist_results['LinearModel'] = {'test_acc': test_acc, 'test_loss': test_loss}"
   ]
  },
  {
   "cell_type": "code",
   "execution_count": 14,
   "metadata": {},
   "outputs": [
    {
     "name": "stdout",
     "output_type": "stream",
     "text": [
      "Predicted Digit = 8\n"
     ]
    },
    {
     "data": {
      "image/png": "[encoded data removed]",
      "text/plain": [
       "<Figure size 600x900 with 2 Axes>"
      ]
     },
     "metadata": {},
     "output_type": "display_data"
    }
   ],
   "source": [
    "images, labels = next(iter(test_loader))\n",
    "\n",
    "img = images[0].view(1, 784)\n",
    "\n",
    "with torch.no_grad():\n",
    "    logps = untrained_model(img)\n",
    "\n",
    "ps = torch.exp(logps)\n",
    "probab = list(ps.numpy()[0])\n",
    "print(\"Predicted Digit =\", probab.index(max(probab)))\n",
    "view_classify(img.view(1, 28, 28), ps)"
   ]
  },
  {
   "cell_type": "code",
   "execution_count": 15,
   "metadata": {},
   "outputs": [
    {
     "name": "stdout",
     "output_type": "stream",
     "text": [
      "Predicted Digit = 7\n"
     ]
    },
    {
     "data": {
      "image/png": "[encoded data removed]",
      "text/plain": [
       "<Figure size 600x900 with 2 Axes>"
      ]
     },
     "metadata": {},
     "output_type": "display_data"
    }
   ],
   "source": [
    "\n",
    "\n",
    "with torch.no_grad():\n",
    "    logps = model(img)\n",
    "\n",
    "ps = torch.exp(logps)\n",
    "probab = list(ps.numpy()[0])\n",
    "print(\"Predicted Digit =\", probab.index(max(probab)))\n",
    "view_classify(img.view(1, 28, 28), logps)"
   ]
  },
  {
   "attachments": {},
   "cell_type": "markdown",
   "metadata": {},
   "source": [
    "---"
   ]
  },
  {
   "attachments": {},
   "cell_type": "markdown",
   "metadata": {},
   "source": [
    "# Using the Visual Patterns in the Images\n",
    "\n",
    "When flattening the images, we lose the spatial and structural information. To capture the spatial and structural information, we can use Convolutional Neural Networks (CNNs). CNNs learn to recognize complex patterns by building hierarchies of simpler patterns. The first layers might capture basic features like edges and corners, intermediate layers combine these into more complex structures (e.g., circles, stripes), and deeper layers may identify high-level features (e.g., faces, objects). For MNIST, this means that the network can learn to recognize the distinctive shapes and curves of each digit."
   ]
  },
  {
   "attachments": {},
   "cell_type": "markdown",
   "metadata": {},
   "source": [
    "![CNN](https://miro.medium.com/v2/resize:fit:1162/format:webp/1*HxYdjdOD9xdjDPzGM313Fg.jpeg)"
   ]
  },
  {
   "cell_type": "code",
   "execution_count": 16,
   "metadata": {},
   "outputs": [
    {
     "name": "stdout",
     "output_type": "stream",
     "text": [
      "----------------------------------------------------------------\n",
      "        Layer (type)               Output Shape         Param #\n",
      "================================================================\n",
      "            Conv2d-1            [-1, 3, 28, 28]              78\n",
      "              ReLU-2            [-1, 3, 28, 28]               0\n",
      "         MaxPool2d-3            [-1, 3, 14, 14]               0\n",
      "            Conv2d-4            [-1, 6, 14, 14]             456\n",
      "              ReLU-5            [-1, 6, 14, 14]               0\n",
      "         MaxPool2d-6              [-1, 6, 7, 7]               0\n",
      "            Linear-7                   [-1, 10]           2,950\n",
      "================================================================\n",
      "Total params: 3,484\n",
      "Trainable params: 3,484\n",
      "Non-trainable params: 0\n",
      "----------------------------------------------------------------\n",
      "Input size (MB): 0.00\n",
      "Forward/backward pass size (MB): 0.06\n",
      "Params size (MB): 0.01\n",
      "Estimated Total Size (MB): 0.08\n",
      "----------------------------------------------------------------\n"
     ]
    }
   ],
   "source": [
    "\n",
    "class CNN(nn.Module):\n",
    "    def __init__(self):\n",
    "        super(CNN, self).__init__()\n",
    "        self.conv1 = nn.Sequential(         \n",
    "            nn.Conv2d(\n",
    "                in_channels=1,  # since the images are grayscale, the number of input channels is 1            \n",
    "                out_channels=3,            \n",
    "                kernel_size=5,              \n",
    "                stride=1,                   \n",
    "                padding=2,                  \n",
    "            ),                              \n",
    "            nn.ReLU(),                      \n",
    "            nn.MaxPool2d(kernel_size=2),    \n",
    "        )\n",
    "        self.conv2 = nn.Sequential(         \n",
    "            nn.Conv2d(3, 6, 5, 1, 2),     \n",
    "            nn.ReLU(),                      \n",
    "            nn.MaxPool2d(2),                \n",
    "        )\n",
    "        # fully connected layer, output 10 classes\n",
    "        self.out = nn.Linear(6 * 7 * 7, 10)\n",
    "    def forward(self, x):\n",
    "        x = self.conv1(x)\n",
    "        x = self.conv2(x)\n",
    "        # flatten the output of conv2 to (batch_size, 32 * 7 * 7)\n",
    "        x = x.view(x.size(0), -1)       \n",
    "        output = self.out(x)\n",
    "        return output\n",
    "\n",
    "cnn_model = CNN()\n",
    "summary(cnn_model, (1, 28, 28))"
   ]
  },
  {
   "cell_type": "code",
   "execution_count": 17,
   "metadata": {},
   "outputs": [
    {
     "name": "stdout",
     "output_type": "stream",
     "text": [
      "Epoch 0 - Train loss: 0.5324164481913026 - Train Accuracy: 82.99259259259259 - Val Accuracy: 95.21666666666667\n",
      "Epoch 1 - Train loss: 0.1305018530670836 - Train Accuracy: 96.03518518518518 - Val Accuracy: 96.11666666666666\n",
      "Epoch 2 - Train loss: 0.09948774341215773 - Train Accuracy: 96.92777777777778 - Val Accuracy: 97.2\n",
      "Epoch 3 - Train loss: 0.08671906341244666 - Train Accuracy: 97.26481481481481 - Val Accuracy: 97.18333333333334\n",
      "Epoch 4 - Train loss: 0.07722015286105027 - Train Accuracy: 97.56851851851852 - Val Accuracy: 97.6\n",
      "Epoch 5 - Train loss: 0.07130038156974133 - Train Accuracy: 97.76481481481481 - Val Accuracy: 97.5\n",
      "Epoch 6 - Train loss: 0.06665549196481652 - Train Accuracy: 97.89444444444445 - Val Accuracy: 97.41666666666667\n",
      "Epoch 7 - Train loss: 0.06443897793063964 - Train Accuracy: 97.97037037037038 - Val Accuracy: 97.3\n",
      "Epoch 8 - Train loss: 0.060216915712336526 - Train Accuracy: 98.11296296296297 - Val Accuracy: 97.88333333333334\n",
      "Epoch 9 - Train loss: 0.058040279784996804 - Train Accuracy: 98.15555555555555 - Val Accuracy: 97.68333333333334\n",
      "Epoch 10 - Train loss: 0.0566305579035267 - Train Accuracy: 98.21296296296296 - Val Accuracy: 97.6\n",
      "Epoch 11 - Train loss: 0.05370701196320991 - Train Accuracy: 98.31296296296296 - Val Accuracy: 97.56666666666666\n",
      "Epoch 12 - Train loss: 0.05224093639089614 - Train Accuracy: 98.32592592592593 - Val Accuracy: 97.68333333333334\n",
      "Epoch 13 - Train loss: 0.049652695925343535 - Train Accuracy: 98.41851851851852 - Val Accuracy: 97.93333333333334\n",
      "Epoch 14 - Train loss: 0.04841549150751665 - Train Accuracy: 98.44259259259259 - Val Accuracy: 97.98333333333333\n",
      "\n",
      "Training Time (in minutes) = 2.0686291337013243\n"
     ]
    },
    {
     "data": {
      "image/png": "[encoded data removed]",
      "text/plain": [
       "<Figure size 1200x500 with 2 Axes>"
      ]
     },
     "metadata": {},
     "output_type": "display_data"
    },
    {
     "name": "stdout",
     "output_type": "stream",
     "text": [
      "Test Accuracy: 98.22, Test Loss: 0.05276487150250276\n"
     ]
    }
   ],
   "source": [
    "performance_tracker = PerformanceTracker()\n",
    "loss_fn = nn.CrossEntropyLoss() \n",
    "train_model(performance_tracker, cnn_model, loss_fn, train_loader, val_loader, epochs=15, lr=0.003, flatten=False)\n",
    "test_acc, test_loss = test_model(cnn_model, loss_fn, test_loader, flatten=False)\n",
    "mnist_results['CNNModel'] = {'test_acc': test_acc, 'test_loss': test_loss}"
   ]
  },
  {
   "cell_type": "code",
   "execution_count": 18,
   "metadata": {},
   "outputs": [
    {
     "name": "stdout",
     "output_type": "stream",
     "text": [
      "+-------------+----------+---------------------+\n",
      "|    Model    | test_acc |      test_loss      |\n",
      "+-------------+----------+---------------------+\n",
      "| LinearModel |  97.18   | 0.08713187636906922 |\n",
      "|  CNNModel   |  98.22   | 0.05276487150250276 |\n",
      "+-------------+----------+---------------------+\n"
     ]
    }
   ],
   "source": [
    "tabulate_results(mnist_results)"
   ]
  },
  {
   "attachments": {},
   "cell_type": "markdown",
   "metadata": {},
   "source": [
    "#### Note: \n",
    "Even though the accuracies are not that different for MNIST, CNNs are much better at capturing the spatial and structural information in the images (you will see this while working with more complex datasets like cifar100, imagenet, etc). From the above table, you can see that the test_loss is much lower for CNNs than for MLPs. Indicating much more confident predictions."
   ]
  },
  {
   "attachments": {},
   "cell_type": "markdown",
   "metadata": {},
   "source": [
    "---"
   ]
  },
  {
   "attachments": {},
   "cell_type": "markdown",
   "metadata": {},
   "source": [
    "# NLP - Getting Text Ready for Neural Networks"
   ]
  },
  {
   "attachments": {},
   "cell_type": "markdown",
   "metadata": {},
   "source": [
    "## Download the dataset"
   ]
  },
  {
   "cell_type": "code",
   "execution_count": 19,
   "metadata": {},
   "outputs": [],
   "source": [
    "import requests\n",
    "import tarfile\n",
    "from io import BytesIO\n",
    "\n",
    "# URL to download the dataset\n",
    "url = 'https://www.cs.cornell.edu/people/pabo/movie-review-data/rt-polaritydata.tar.gz'\n",
    "\n",
    "# Make a request to get the dataset\n",
    "response = requests.get(url)\n",
    "if response.status_code == 200:\n",
    "    # Open the downloaded dataset as a tar file\n",
    "    file_obj = BytesIO(response.content)\n",
    "    tar = tarfile.open(fileobj=file_obj, mode=\"r:gz\")\n",
    "    \n",
    "    # Specify the path where to extract the files\n",
    "    extract_path = './data/rt-polaritydata'\n",
    "    \n",
    "    # Extract the dataset\n",
    "    tar.extractall(path=extract_path)\n",
    "    tar.close()\n",
    "    \n",
    "    # Success message\n",
    "    \"The dataset has been successfully downloaded and extracted.\"\n",
    "else:\n",
    "    # Error message\n",
    "    \"Failed to download the dataset. Please check the URL or your internet connection.\"\n"
   ]
  },
  {
   "cell_type": "code",
   "execution_count": 20,
   "metadata": {},
   "outputs": [],
   "source": [
    "def load_text(path):\n",
    "    \"\"\"Load text data, lowercase text and save to a list.\"\"\"\n",
    "\n",
    "    with open(path, 'rb') as f:\n",
    "        texts = []\n",
    "        for line in f:\n",
    "            texts.append(line.decode(errors='ignore').lower().strip())\n",
    "\n",
    "    return texts\n",
    "\n",
    "# Load files\n",
    "neg_text = load_text('data/rt-polaritydata/rt-polaritydata/rt-polarity.neg')\n",
    "pos_text = load_text('data/rt-polaritydata/rt-polaritydata/rt-polarity.pos')\n",
    "\n",
    "# Concatenate and label data\n",
    "texts = np.array(neg_text + pos_text)\n",
    "labels = np.array([0]*len(neg_text) + [1]*len(pos_text))"
   ]
  },
  {
   "cell_type": "code",
   "execution_count": 21,
   "metadata": {},
   "outputs": [
    {
     "name": "stdout",
     "output_type": "stream",
     "text": [
      "Negative review: simplistic , silly and tedious .\n",
      "Positive review: provides a porthole into that noble , trembling incoherence that defines us all .\n"
     ]
    }
   ],
   "source": [
    "print('Negative review:', texts[0])\n",
    "print('Positive review:', texts[-1])"
   ]
  },
  {
   "attachments": {},
   "cell_type": "markdown",
   "metadata": {},
   "source": [
    "## Download Pretrained Word Vectors"
   ]
  },
  {
   "cell_type": "code",
   "execution_count": 22,
   "metadata": {},
   "outputs": [
    {
     "name": "stdout",
     "output_type": "stream",
     "text": [
      "Directory already exists.\n",
      "File already downloaded.\n"
     ]
    }
   ],
   "source": [
    "import os\n",
    "import zipfile\n",
    "import requests\n",
    "\n",
    "# Define the URL and the target directory\n",
    "url = \"https://dl.fbaipublicfiles.com/fasttext/vectors-english/crawl-300d-2M.vec.zip\"\n",
    "file_dir = \"./data/fastText\"  # Using /mnt/data for persistent storage in this environment\n",
    "file_path = os.path.join(file_dir, \"crawl-300d-2M.vec.zip\")\n",
    "\n",
    "# Check if the directory already exists\n",
    "if not os.path.isdir(file_dir):\n",
    "    os.makedirs(file_dir)\n",
    "    print(\"Directory created.\")\n",
    "else:\n",
    "    print(\"Directory already exists.\")\n",
    "\n",
    "# Function to download and extract the file\n",
    "def download_and_extract(url, file_path, file_dir):\n",
    "    # Download the file\n",
    "    response = requests.get(url, stream=True)\n",
    "    if response.status_code == 200:\n",
    "        with open(file_path, \"wb\") as f:\n",
    "            f.write(response.content)\n",
    "        print(\"Download completed.\")\n",
    "\n",
    "        # Extract the file\n",
    "        with zipfile.ZipFile(file_path, 'r') as zip_ref:\n",
    "            zip_ref.extractall(file_dir)\n",
    "        print(\"Extraction completed.\")\n",
    "    else:\n",
    "        print(\"Failed to download the file. Please check the URL or your internet connection.\")\n",
    "\n",
    "# Call the function if the zip file doesn't exist\n",
    "if not os.path.exists(file_path):\n",
    "    download_and_extract(url, file_path, file_dir)\n",
    "else:\n",
    "    print(\"File already downloaded.\")\n"
   ]
  },
  {
   "attachments": {},
   "cell_type": "markdown",
   "metadata": {},
   "source": [
    "## Preparing Text for Deep Learning Models"
   ]
  },
  {
   "attachments": {},
   "cell_type": "markdown",
   "metadata": {},
   "source": [
    "We first need to ``tokenize`` the text, i.e. split the text into words and then convert the words into integers (ids). The process of converting text into a sequence of tokens is called tokenization. Then, we need to assign each token to a number, which we can then feed into a neural network    \n",
    "\n",
    "For this, we build a vocabulary dictionary ``word2idx`` that maps each word to a unique integer. We also build a reverse vocabulary dictionary ``idx2word`` that maps each integer to its corresponding word (Used in text generation, which converts the ids generated by the Model back to words). ``word2idx`` would be used to convert our tokens into indexes and build an embedding layer.\n",
    "\n",
    "* Step 1: Tokenization    \n",
    "\n",
    "    Tokenization is the process of converting text into a sequence of tokens (words or subwords). It's the first step in text preprocessing for neural networks.    \n",
    "    The text is split into individual components based on spaces and punctuation. For example, the sentence \"Hello, world!\" would be split into [\"Hello\", \",\", \"world\", \"!\"].    \n",
    "\n",
    "* Step 2: Convert Tokens to Integers (Token ids)    \n",
    "\n",
    "    After tokenization, each token needs to be represented in a form that a neural network can understand, which is numerical.\n",
    "    Each unique token is assigned a unique integer. This is crucial for creating a numerical representation of the text data. \n",
    "    Example: If your corpus contains the tokens [\"Hello\", \",\", \"world\", \"!\"], you might assign the integers [2, 3, 4, 5] to these tokens.\n",
    "\n",
    "    word2idx is a dictionary that maps each unique word in your corpus to a unique integer. This mapping facilitates the conversion of text tokens into numerical indices.    \n",
    "    Example: If your corpus contains the tokens [\"Hello\", \",\", \"world\", \"!\"], word2idx would be {\"Hello\": 2, \",\": 3, \"world\": 4, \"!\": 5}. \n",
    "\n",
    "    idx2word is the inverse of word2idx, mapping integers back to their corresponding words. This is useful for interpretation and debugging.\n",
    "    Example: Using the word2idx example above, idx2word would be {2: \"Hello\", 3: \",\", 4: \"world\", 5: \"!\"}. So that when the model generates the ids, we can convert them back to words.\n",
    "\n",
    "* Step 3: Convert Token ids to Word Vectors    \n",
    "\n",
    "    After tokenization and conversion to integers, each token is represented as a unique integer. This integer can then be used to index into a word vector (Embedding Layer), which becomes the numerical representation of that word that goes into Deep Learning Models. We can assign token ids with the corresponding word vectors from pretrained word vectors. These pretrained word vectors inherently capture the semantic meaning of the words, and are thus a good starting point for the word vectors in our model.\n",
    "\n",
    "## Using Pretrained Word Vectors\n",
    "\n",
    "We can use pretrained word vectors to initialize the word embedding layer in our model. These pretrained word vectors are trained on large corpora and capture the semantic meaning of the words. We can use these pretrained word vectors as the initial word vectors in our embedding layer in the model, and then fine-tune them during training.\n",
    "\n",
    "What does \"semantic\" mean in the context of word vectors?\n",
    "\n",
    "When we say that an embedding layer captures the semantic meaning of words, it means that the layer learns to represent words in a high-dimensional space in such a way that the geometric relationships between these word vectors reflect the actual relationships between the words in language.\n",
    "\n",
    "For example:\n",
    "\n",
    "- Similarity: Words with similar meanings are positioned closer together in the embedding space. For instance, \"happy\" and \"joyful\" would have vectors that are close to each other.\n",
    "\n",
    "- Relationships: The embeddings can capture more complex relationships beyond simple similarity, such as analogies. A famous example is the vector arithmetic property found in some embeddings, where the relationship \"king - man + woman = queen\" can be approximately demonstrated through the respective word vectors.\n",
    "\n",
    "- Context: In more advanced models, embeddings can capture contextual meanings, meaning that the representation of a word can change based on the other words in the sentence, allowing the model to distinguish between the different meanings of a word used in different contexts (e.g., \"bank\" in \"river bank\" vs. \"savings bank\").\n",
    "\n",
    "These inductive biases are useful for the model to learn from the data more efficiently, and they can be especially helpful when the training data is limited.\n",
    "\n",
    "## Embedding Layer?\n",
    "\n",
    "An Embedding layer will serve as a look-up table which takes words’ indexes in the vocabulary as input and output word vectors. Hence, the embedding layer has shape (N, d) where N is the number of unique words in the vocabulary (size of the vocabulary) and d is the dimension of the word vectors (embedding dimension).\n",
    "\n",
    "## Training the Embedding Layer?\n",
    "\n",
    "We can also train this look-up table. In order to train our embedding layer, we create the embedding layer in our ``nn.module`` model class. The input to our model would be the indexes of the words in the vocabulary. \n",
    "\n",
    "``nn.Embedding`` is – just like a linear layer – a M x N matrix, with M being the number of words and N being the size of each word vector. It just matches a word (specified by an index) to the corresponding word vector, i.e., the corresponding row in the matrix. ([Reference](https://discuss.pytorch.org/t/how-does-nn-embedding-work/88518/8))"
   ]
  },
  {
   "attachments": {},
   "cell_type": "markdown",
   "metadata": {},
   "source": [
    "The function ``tokenize`` will tokenize our sentences, builds a vocabulary and finds the maximum sentence length. The function ``encode`` will take outputs of tokenize as inputs, performs sentence padding and returns input_ids as a numpy array."
   ]
  },
  {
   "cell_type": "code",
   "execution_count": 23,
   "metadata": {},
   "outputs": [],
   "source": [
    "\n",
    "from collections import defaultdict\n",
    "\n",
    "def tokenize(texts):\n",
    "    \"\"\"Tokenize texts, build vocabulary and find maximum sentence length.\n",
    "    \n",
    "    Args:\n",
    "        texts (List[str]): List of text data\n",
    "    \n",
    "    Returns:\n",
    "        tokenized_texts (List[List[str]]): List of list of tokens\n",
    "        word2idx (Dict): Vocabulary built from the corpus\n",
    "        max_len (int): Maximum sentence length\n",
    "    \"\"\"\n",
    "\n",
    "    max_len = 0\n",
    "    tokenized_texts = []\n",
    "    word2idx = {}\n",
    "\n",
    "    # Add <pad> and <unk> tokens to the vocabulary\n",
    "    word2idx['<pad>'] = 0\n",
    "    word2idx['<unk>'] = 1\n",
    "\n",
    "    # Building our vocab from the corpus starting from index 2\n",
    "    idx = 2\n",
    "    for sent in texts:\n",
    "        tokenized_sent = word_tokenize(sent)\n",
    "\n",
    "        # Add `tokenized_sent` to `tokenized_texts`\n",
    "        tokenized_texts.append(tokenized_sent)\n",
    "\n",
    "        # Add new token to `word2idx`\n",
    "        for token in tokenized_sent:\n",
    "            if token not in word2idx:\n",
    "                word2idx[token] = idx\n",
    "                idx += 1\n",
    "\n",
    "        # Update `max_len`\n",
    "        max_len = max(max_len, len(tokenized_sent))\n",
    "\n",
    "    return tokenized_texts, word2idx, max_len\n",
    "\n",
    "def encode(tokenized_texts, word2idx, max_len):\n",
    "    \"\"\"Pad each sentence to the maximum sentence length and encode tokens to\n",
    "    their index in the vocabulary.\n",
    "\n",
    "    Returns:\n",
    "        input_ids (np.array): Array of token indexes in the vocabulary with\n",
    "            shape (N, max_len). It will the input of our model.\n",
    "    \"\"\"\n",
    "\n",
    "    input_ids = []\n",
    "    for tokenized_sent in tokenized_texts:\n",
    "        # Pad sentences to max_len\n",
    "        tokenized_sent += ['<pad>'] * (max_len - len(tokenized_sent))\n",
    "\n",
    "        # Encode tokens to input_ids\n",
    "        input_id = [word2idx.get(token) for token in tokenized_sent]\n",
    "        input_ids.append(input_id)\n",
    "    \n",
    "    return np.array(input_ids)"
   ]
  },
  {
   "attachments": {},
   "cell_type": "markdown",
   "metadata": {},
   "source": [
    "## Example:"
   ]
  },
  {
   "cell_type": "code",
   "execution_count": 24,
   "metadata": {},
   "outputs": [
    {
     "name": "stdout",
     "output_type": "stream",
     "text": [
      "Tokenized Texts: [['Hello', 'world', '!'], ['Hello', ',', 'this', 'is', 'a', 'sample', 'sentence', '.']]\n",
      "Vocabulary: {'<pad>': 0, '<unk>': 1, 'Hello': 2, 'world': 3, '!': 4, ',': 5, 'this': 6, 'is': 7, 'a': 8, 'sample': 9, 'sentence': 10, '.': 11}\n",
      "Maximum Sentence Length: 8\n"
     ]
    }
   ],
   "source": [
    "from nltk.tokenize import word_tokenize\n",
    "\n",
    "example_texts = [\"Hello world!\", \"Hello, this is a sample sentence.\"]\n",
    "\n",
    "example_tokenized_texts, example_word2idx, example_max_len = tokenize(example_texts)\n",
    "\n",
    "print(\"Tokenized Texts:\", example_tokenized_texts)\n",
    "print(\"Vocabulary:\", example_word2idx)\n",
    "print(\"Maximum Sentence Length:\", example_max_len)"
   ]
  },
  {
   "cell_type": "code",
   "execution_count": 25,
   "metadata": {},
   "outputs": [
    {
     "name": "stdout",
     "output_type": "stream",
     "text": [
      "Text: Hello world!\n",
      "Token IDs: [2 3 4 0 0 0 0 0]\n",
      "\n",
      "Text: Hello, this is a sample sentence.\n",
      "Token IDs: [ 2  5  6  7  8  9 10 11]\n",
      "\n"
     ]
    }
   ],
   "source": [
    "example_input_ids = encode(example_tokenized_texts, example_word2idx, example_max_len)\n",
    "\n",
    "for example_idx, example_text in enumerate(example_texts):\n",
    "    print(f\"Text: {example_text}\")\n",
    "    print(f\"Token IDs: {example_input_ids[example_idx]}\")\n",
    "    print()"
   ]
  },
  {
   "attachments": {},
   "cell_type": "markdown",
   "metadata": {},
   "source": [
    "## Next step: Convert Token ids to vectors"
   ]
  },
  {
   "cell_type": "code",
   "execution_count": 26,
   "metadata": {},
   "outputs": [],
   "source": [
    "from tqdm import tqdm_notebook\n",
    "from nltk.tokenize import word_tokenize\n",
    "\n",
    "def load_pretrained_vectors(word2idx, fname):\n",
    "    \"\"\"Load pretrained vectors and create embedding layers.\n",
    "    \n",
    "    Args:\n",
    "        word2idx (Dict): Vocabulary built from the corpus\n",
    "        fname (str): Path to pretrained vector file\n",
    "\n",
    "    Returns:\n",
    "        embeddings (np.array): Embedding matrix with shape (N, d) where N is\n",
    "            the size of word2idx and d is embedding dimension\n",
    "    \"\"\"\n",
    "\n",
    "    print(\"Loading pretrained vectors...\")\n",
    "    fin = open(fname, 'r', encoding='utf-8', newline='\\n', errors='ignore')\n",
    "    n, d = map(int, fin.readline().split())\n",
    "\n",
    "    # Initilize random embeddings\n",
    "    embeddings = np.random.uniform(-0.25, 0.25, (len(word2idx), d))\n",
    "    embeddings[word2idx['<pad>']] = np.zeros((d,))\n",
    "\n",
    "    # Load pretrained vectors\n",
    "    count = 0\n",
    "    for line in tqdm_notebook(fin):\n",
    "        tokens = line.rstrip().split(' ')\n",
    "        word = tokens[0] # The first token is the word itself, the rest are the values of the embedding\n",
    "        if word in word2idx: # Update the embedding if the word is in our vocabulary\n",
    "            count += 1\n",
    "            embeddings[word2idx[word]] = np.array(tokens[1:], dtype=np.float32)\n",
    "\n",
    "\n",
    "    return embeddings"
   ]
  },
  {
   "cell_type": "code",
   "execution_count": 27,
   "metadata": {},
   "outputs": [
    {
     "name": "stdout",
     "output_type": "stream",
     "text": [
      "Tokenizing...\n",
      "\n",
      "Loading pretrained vectors...\n"
     ]
    },
    {
     "name": "stderr",
     "output_type": "stream",
     "text": [
      "/var/folders/8m/_7tr45rs7cv09g0b7cyt4t8w0000gn/T/ipykernel_2710/2496761641.py:26: TqdmDeprecationWarning: This function will be removed in tqdm==5.0.0\n",
      "Please use `tqdm.notebook.tqdm` instead of `tqdm.tqdm_notebook`\n",
      "  for line in tqdm_notebook(fin):\n"
     ]
    },
    {
     "data": {
      "application/vnd.jupyter.widget-view+json": {
       "model_id": "0c32443a095e49e281be49d20ea186b9",
       "version_major": 2,
       "version_minor": 0
      },
      "text/plain": [
       "0it [00:00, ?it/s]"
      ]
     },
     "metadata": {},
     "output_type": "display_data"
    }
   ],
   "source": [
    "# Tokenize, build vocabulary, encode tokens\n",
    "print(\"Tokenizing...\\n\")\n",
    "tokenized_texts, word2idx, max_len = tokenize(texts)\n",
    "input_ids = encode(tokenized_texts, word2idx, max_len)\n",
    "\n",
    "# Load pretrained vectors\n",
    "embeddings = load_pretrained_vectors(word2idx, \"data/fastText/crawl-300d-2M.vec\")\n",
    "embeddings = torch.tensor(embeddings)"
   ]
  },
  {
   "cell_type": "code",
   "execution_count": 28,
   "metadata": {},
   "outputs": [
    {
     "name": "stdout",
     "output_type": "stream",
     "text": [
      "torch.Size([20280, 300])\n",
      "torch.Size([300])\n"
     ]
    }
   ],
   "source": [
    "print(embeddings.shape)\n",
    "print(embeddings[word2idx['good']].shape)\n"
   ]
  },
  {
   "cell_type": "code",
   "execution_count": 29,
   "metadata": {},
   "outputs": [],
   "source": [
    "def data_loader(train_inputs, val_inputs, train_labels, val_labels,\n",
    "                batch_size=50):\n",
    "    \"\"\"Convert train and validation sets to torch.Tensors and load them to\n",
    "    DataLoader.\n",
    "    \"\"\"\n",
    "\n",
    "    # Convert data type to torch.Tensor\n",
    "    train_inputs, val_inputs, train_labels, val_labels =\\\n",
    "    tuple(torch.tensor(data) for data in\n",
    "          [train_inputs, val_inputs, train_labels, val_labels])\n",
    "\n",
    "    # Specify batch_size\n",
    "    batch_size = 50\n",
    "\n",
    "    # Create DataLoader for training data\n",
    "    train_data = TensorDataset(train_inputs, train_labels)\n",
    "    train_dataloader = DataLoader(train_data, batch_size=batch_size)\n",
    "\n",
    "    # Create DataLoader for validation data\n",
    "    val_data = TensorDataset(val_inputs, val_labels)\n",
    "    val_dataloader = DataLoader(val_data,  batch_size=batch_size)\n",
    "\n",
    "    return train_dataloader, val_dataloader"
   ]
  },
  {
   "cell_type": "code",
   "execution_count": 30,
   "metadata": {},
   "outputs": [],
   "source": [
    "from sklearn.model_selection import train_test_split\n",
    "\n",
    "# Train Test Split\n",
    "train_inputs, val_inputs, train_labels, val_labels = train_test_split(\n",
    "    input_ids, labels, test_size=0.1, random_state=42)\n",
    "\n",
    "# Load data to PyTorch DataLoader\n",
    "train_dataloader, val_dataloader = \\\n",
    "data_loader(train_inputs, val_inputs, train_labels, val_labels, batch_size=50)"
   ]
  },
  {
   "attachments": {},
   "cell_type": "markdown",
   "metadata": {},
   "source": [
    "## Defining the Model"
   ]
  },
  {
   "cell_type": "code",
   "execution_count": 31,
   "metadata": {},
   "outputs": [],
   "source": [
    "class MLP_NLP(nn.Module):\n",
    "    \"\"\"A Multilayer Perceptron Neural Network for Sentence Classification.\"\"\"\n",
    "    def __init__(self,\n",
    "                 pretrained_embedding=None,\n",
    "                 freeze_embedding=False,\n",
    "                 vocab_size=None,\n",
    "                 embed_dim=300,\n",
    "                 hidden_sizes=[100, 100],  # Example hidden sizes\n",
    "                 num_classes=2,\n",
    "                 dropout=0.5):\n",
    "        \"\"\"\n",
    "        The constructor for MLP_NLP class.\n",
    "\n",
    "        Args:\n",
    "            pretrained_embedding (torch.Tensor): Pretrained embeddings with\n",
    "                shape (vocab_size, embed_dim).\n",
    "            freeze_embedding (bool): Set to True to prevent the pretrained\n",
    "                embeddings from being updated during training. Default: False.\n",
    "            vocab_size (int): Need to be specified when pretrained embeddings\n",
    "                are not used.\n",
    "            embed_dim (int): Dimension of word vectors. Need to be specified\n",
    "                when pretrained embeddings are not used. Default: 300.\n",
    "            hidden_sizes (List[int]): List of hidden layer sizes. Each element\n",
    "                represents a layer. Default: [100, 100].\n",
    "            num_classes (int): Number of classes. Default: 2.\n",
    "            dropout (float): Dropout rate. Default: 0.5.\n",
    "        \"\"\"\n",
    "        \n",
    "        super(MLP_NLP, self).__init__()\n",
    "        # Embedding layer\n",
    "        if pretrained_embedding is not None:\n",
    "            self.vocab_size, self.embed_dim = pretrained_embedding.shape\n",
    "            self.embedding = nn.Embedding.from_pretrained(pretrained_embedding,\n",
    "                                                          freeze=freeze_embedding)\n",
    "        else:\n",
    "            self.vocab_size = vocab_size\n",
    "            self.embed_dim = embed_dim\n",
    "            self.embedding = nn.Embedding(num_embeddings=vocab_size,\n",
    "                                          embedding_dim=embed_dim,\n",
    "                                          padding_idx=0,\n",
    "                                          max_norm=5.0)\n",
    "                                          \n",
    "        # MLP Network\n",
    "        self.hidden_layers = nn.ModuleList()\n",
    "        # input_size = embed_dim  # Assuming we're flattening the embedded input\n",
    "        input_size = 18600\n",
    "        print(input_size)\n",
    "        for hidden_size in hidden_sizes:\n",
    "            self.hidden_layers.append(nn.Linear(input_size, hidden_size))\n",
    "            input_size = hidden_size\n",
    "        \n",
    "        # Output layer\n",
    "        self.output_layer = nn.Linear(input_size, num_classes)\n",
    "        \n",
    "        # Dropout\n",
    "        self.dropout = nn.Dropout(dropout)\n",
    "        \n",
    "    def forward(self, input_ids):\n",
    "        \"\"\"\n",
    "        Perform a forward pass through the network.\n",
    "\n",
    "        Args:\n",
    "            input_ids (torch.Tensor): A tensor of token ids with shape\n",
    "                (batch_size, max_sent_length)\n",
    "\n",
    "        Returns:\n",
    "            logits (torch.Tensor): Output logits with shape (batch_size,\n",
    "                num_classes)\n",
    "        \"\"\"\n",
    "        \n",
    "        # Embedding layer\n",
    "        # Output shape: (batch_size, max_sent_length, embed_dim)\n",
    "        x_embed = self.embedding(input_ids).float()\n",
    "        \n",
    "        # Flatten the embeddings\n",
    "        # New shape: (batch_size, max_sent_length * embed_dim)\n",
    "        x_flat = x_embed.view(x_embed.size(0), -1)\n",
    "        \n",
    "        # Pass through hidden layers\n",
    "        x = x_flat\n",
    "        for layer in self.hidden_layers:\n",
    "            x = nn.functional.relu(layer(x))\n",
    "            x = self.dropout(x)  # Apply dropout\n",
    "        \n",
    "        # Output layer\n",
    "        logits = self.output_layer(x)\n",
    "        \n",
    "        return logits"
   ]
  },
  {
   "cell_type": "code",
   "execution_count": 32,
   "metadata": {},
   "outputs": [],
   "source": [
    "def initilize_mlp_model(pretrained_embedding=None,\n",
    "                    freeze_embedding=False,\n",
    "                    vocab_size=None,\n",
    "                    embed_dim=300,\n",
    "                    dropout=0.5,\n",
    "                    learning_rate=0.01):\n",
    "\n",
    "    mlp_model = MLP_NLP(pretrained_embedding=pretrained_embedding,\n",
    "                        freeze_embedding=freeze_embedding,\n",
    "                        vocab_size=vocab_size,\n",
    "                        embed_dim=embed_dim,\n",
    "                        hidden_sizes=[100, 100],\n",
    "                        num_classes=2,\n",
    "                        dropout=0.5)\n",
    "\n",
    "    # Instantiate Adadelta optimizer\n",
    "    optimizer = optim.AdamW(mlp_model.parameters(),\n",
    "                            lr=learning_rate,\n",
    "                            weight_decay=0.001)\n",
    "\n",
    "    return mlp_model, optimizer"
   ]
  },
  {
   "attachments": {},
   "cell_type": "markdown",
   "metadata": {},
   "source": [
    "## Training the Model"
   ]
  },
  {
   "cell_type": "code",
   "execution_count": 33,
   "metadata": {},
   "outputs": [],
   "source": [
    "loss_fn = nn.CrossEntropyLoss()\n",
    "\n",
    "def set_seed(seed_value=42):\n",
    "    \"\"\"Set seed for reproducibility.\"\"\"\n",
    "\n",
    "    random.seed(seed_value)\n",
    "    np.random.seed(seed_value)\n",
    "    torch.manual_seed(seed_value)\n",
    "    torch.cuda.manual_seed_all(seed_value)\n",
    "\n",
    "def train(model, optimizer, train_dataloader, val_dataloader=None, epochs=10):\n",
    "    \n",
    "    # Tracking best validation accuracy\n",
    "    best_accuracy = 0\n",
    "\n",
    "    scheduler = torch.optim.lr_scheduler.CosineAnnealingLR(optimizer, T_max=epochs)\n",
    "\n",
    "    # Start training loop\n",
    "    print(\"Start training...\\n\")\n",
    "    print(f\"{'Epoch':^7} | {'Train Loss':^12} | {'Val Loss':^10} | {'Val Acc':^9} | {'Elapsed':^9} | {'current_lr':^9}\")\n",
    "    print(\"-\"*70)\n",
    "\n",
    "    for epoch_i in range(epochs):\n",
    "        # =======================================\n",
    "        #               Training\n",
    "        # =======================================\n",
    "\n",
    "        # Tracking time and loss\n",
    "        t0_epoch = time()\n",
    "        total_loss = 0\n",
    "\n",
    "        # Put the model into the training mode\n",
    "        model.train()\n",
    "\n",
    "        for step, batch in enumerate(train_dataloader):\n",
    "            b_input_ids, b_labels = tuple(t for t in batch)\n",
    "\n",
    "            # Zero out any previously calculated gradients\n",
    "            model.zero_grad()\n",
    "\n",
    "            # Perform a forward pass. This will return logits.\n",
    "            logits = model(b_input_ids)\n",
    "\n",
    "            # Compute loss and accumulate the loss values\n",
    "            loss = loss_fn(logits, b_labels)\n",
    "            total_loss += loss.item()\n",
    "\n",
    "            # Perform a backward pass to calculate gradients\n",
    "            loss.backward()\n",
    "\n",
    "            # Update parameters\n",
    "            optimizer.step()\n",
    "\n",
    "        # Update the learning rate\n",
    "        scheduler.step()\n",
    "        current_lr = scheduler.get_last_lr()[0]\n",
    "\n",
    "        # Calculate the average loss over the entire training data\n",
    "        avg_train_loss = total_loss / len(train_dataloader)\n",
    "\n",
    "        # =======================================\n",
    "        #               Evaluation\n",
    "        # =======================================\n",
    "        if val_dataloader is not None:\n",
    "            # After the completion of each training epoch, measure the model's\n",
    "            # performance on our validation set.\n",
    "            val_loss, val_accuracy = evaluate(model, val_dataloader)\n",
    "\n",
    "            # Track the best accuracy\n",
    "            if val_accuracy > best_accuracy:\n",
    "                best_accuracy = val_accuracy\n",
    "\n",
    "            # Print performance over the entire training data\n",
    "            time_elapsed = time() - t0_epoch\n",
    "            print(f\"{epoch_i + 1:^7} | {avg_train_loss:^12.6f} | {val_loss:^10.6f} | {val_accuracy:^9.2f} | {time_elapsed:^9.2f} | {current_lr:^9.2e}\")\n",
    "\n",
    "            \n",
    "    print(\"\\n\")\n",
    "    print(f\"Training complete! Best accuracy: {best_accuracy:.2f}%.\")\n",
    "\n",
    "def evaluate(model, val_dataloader):\n",
    "    \"\"\"After the completion of each training epoch, measure the model's\n",
    "    performance on our validation set.\n",
    "    \"\"\"\n",
    "    # Put the model into the evaluation mode. The dropout layers are disabled\n",
    "    # during the test time.\n",
    "    model.eval()\n",
    "\n",
    "    # Tracking variables\n",
    "    val_accuracy = []\n",
    "    val_loss = []\n",
    "\n",
    "    # For each batch in our validation set...\n",
    "    for batch in val_dataloader:\n",
    "        # Load batch to GPU\n",
    "        b_input_ids, b_labels = tuple(t for t in batch)\n",
    "\n",
    "        # Compute logits\n",
    "        with torch.no_grad():\n",
    "            logits = model(b_input_ids)\n",
    "\n",
    "        # Compute loss\n",
    "        loss = loss_fn(logits, b_labels)\n",
    "        val_loss.append(loss.item())\n",
    "\n",
    "        # Get the predictions\n",
    "        preds = torch.argmax(logits, dim=1).flatten()\n",
    "\n",
    "        # Calculate the accuracy rate\n",
    "        accuracy = (preds == b_labels).cpu().numpy().mean() * 100\n",
    "        val_accuracy.append(accuracy)\n",
    "\n",
    "    # Compute the average accuracy and loss over the validation set.\n",
    "    val_loss = np.mean(val_loss)\n",
    "    val_accuracy = np.mean(val_accuracy)\n",
    "\n",
    "    return val_loss, val_accuracy"
   ]
  },
  {
   "attachments": {},
   "cell_type": "markdown",
   "metadata": {},
   "source": [
    "## MLP-rand: Word vectors are randomly initialized.\n",
    "\n",
    "We start with a random embedding layer (No Prior Knowledge on the semantic meaning of words) and then train it using backpropagation. The embedding layer will be updated during the training process to minimize the loss function."
   ]
  },
  {
   "cell_type": "code",
   "execution_count": 34,
   "metadata": {},
   "outputs": [
    {
     "name": "stdout",
     "output_type": "stream",
     "text": [
      "18600\n",
      "Start training...\n",
      "\n",
      " Epoch  |  Train Loss  |  Val Loss  |  Val Acc  |  Elapsed  | current_lr\n",
      "----------------------------------------------------------------------\n",
      "   1    |   0.697644   |  0.694213  |   51.14   |   2.48    | 9.97e-06 \n",
      "   2    |   0.693859   |  0.693187  |   51.14   |   2.45    | 9.89e-06 \n",
      "   3    |   0.691117   |  0.692222  |   51.14   |   2.40    | 9.76e-06 \n",
      "   4    |   0.688671   |  0.691353  |   51.23   |   2.42    | 9.57e-06 \n",
      "   5    |   0.685685   |  0.690389  |   51.50   |   2.44    | 9.33e-06 \n",
      "   6    |   0.682578   |  0.689447  |   52.23   |   2.44    | 9.05e-06 \n",
      "   7    |   0.678279   |  0.688407  |   52.04   |   2.51    | 8.72e-06 \n",
      "   8    |   0.673922   |  0.687215  |   53.13   |   2.44    | 8.35e-06 \n",
      "   9    |   0.670480   |  0.685943  |   54.50   |   2.43    | 7.94e-06 \n",
      "  10    |   0.664692   |  0.684664  |   56.48   |   2.44    | 7.50e-06 \n",
      "  11    |   0.658636   |  0.683357  |   57.39   |   2.45    | 7.03e-06 \n",
      "  12    |   0.654407   |  0.681990  |   57.84   |   2.43    | 6.55e-06 \n",
      "  13    |   0.647241   |  0.680683  |   58.57   |   2.46    | 6.04e-06 \n",
      "  14    |   0.642334   |  0.679452  |   58.75   |   2.47    | 5.52e-06 \n",
      "  15    |   0.636054   |  0.678376  |   59.66   |   2.45    | 5.00e-06 \n",
      "  16    |   0.631777   |  0.677353  |   59.75   |   2.50    | 4.48e-06 \n",
      "  17    |   0.625558   |  0.676373  |   60.20   |   2.51    | 3.96e-06 \n",
      "  18    |   0.621286   |  0.675669  |   60.02   |   2.51    | 3.45e-06 \n",
      "  19    |   0.615810   |  0.674948  |   59.84   |   2.47    | 2.97e-06 \n",
      "  20    |   0.612948   |  0.674403  |   59.75   |   2.47    | 2.50e-06 \n",
      "  21    |   0.609329   |  0.673926  |   59.66   |   2.52    | 2.06e-06 \n",
      "  22    |   0.608384   |  0.673568  |   59.93   |   2.50    | 1.65e-06 \n",
      "  23    |   0.604438   |  0.673275  |   59.93   |   2.46    | 1.28e-06 \n",
      "  24    |   0.602392   |  0.673075  |   60.11   |   2.44    | 9.55e-07 \n",
      "  25    |   0.599508   |  0.672914  |   60.11   |   2.50    | 6.70e-07 \n",
      "  26    |   0.598761   |  0.672797  |   60.20   |   2.58    | 4.32e-07 \n",
      "  27    |   0.599060   |  0.672729  |   60.20   |   2.53    | 2.45e-07 \n",
      "  28    |   0.598821   |  0.672689  |   60.20   |   2.52    | 1.09e-07 \n",
      "  29    |   0.598423   |  0.672674  |   60.20   |   2.46    | 2.74e-08 \n",
      "  30    |   0.598022   |  0.672670  |   60.20   |   2.47    | 0.00e+00 \n",
      "\n",
      "\n",
      "Training complete! Best accuracy: 60.20%.\n"
     ]
    }
   ],
   "source": [
    "set_seed(42)\n",
    "mlp_rand, optimizer = initilize_mlp_model(vocab_size=len(word2idx),\n",
    "                                      embed_dim=300,\n",
    "                                      learning_rate=1e-5,\n",
    "                                    dropout=0.5)\n",
    "train(mlp_rand, optimizer, train_dataloader, val_dataloader, epochs=30)"
   ]
  },
  {
   "attachments": {},
   "cell_type": "markdown",
   "metadata": {},
   "source": [
    "## MLP-static: fastText pretrained word vectors are used and freezed during training.\n",
    "\n",
    "We can add prior knowledge to our model by using pre-trained word vectors. These pre-trained word vectors are trained on a large corpus of text and capture the semantic meaning of words, and relationships between words. We can use these pre-trained word vectors as our embedding layer and freeze them during training. This means that the word vectors will not be updated during the training process."
   ]
  },
  {
   "cell_type": "code",
   "execution_count": 35,
   "metadata": {},
   "outputs": [
    {
     "name": "stdout",
     "output_type": "stream",
     "text": [
      "18600\n",
      "Start training...\n",
      "\n",
      " Epoch  |  Train Loss  |  Val Loss  |  Val Acc  |  Elapsed  | current_lr\n",
      "----------------------------------------------------------------------\n",
      "   1    |   0.693423   |  0.691379  |   51.14   |   0.94    | 9.97e-06 \n",
      "   2    |   0.690583   |  0.688858  |   51.14   |   0.92    | 9.89e-06 \n",
      "   3    |   0.686421   |  0.684727  |   52.87   |   0.98    | 9.76e-06 \n",
      "   4    |   0.680056   |  0.678506  |   57.68   |   0.97    | 9.57e-06 \n",
      "   5    |   0.672541   |  0.670467  |   63.03   |   0.94    | 9.33e-06 \n",
      "   6    |   0.663385   |  0.661348  |   67.67   |   0.93    | 9.05e-06 \n",
      "   7    |   0.650537   |  0.650715  |   70.20   |   0.97    | 8.72e-06 \n",
      "   8    |   0.635798   |  0.639263  |   71.29   |   0.99    | 8.35e-06 \n",
      "   9    |   0.623409   |  0.627881  |   72.38   |   0.92    | 7.94e-06 \n",
      "  10    |   0.607779   |  0.616462  |   72.56   |   0.91    | 7.50e-06 \n",
      "  11    |   0.594398   |  0.605819  |   73.57   |   0.94    | 7.03e-06 \n",
      "  12    |   0.580030   |  0.595876  |   73.75   |   0.94    | 6.55e-06 \n",
      "  13    |   0.568973   |  0.587115  |   74.03   |   0.91    | 6.04e-06 \n",
      "  14    |   0.557732   |  0.579435  |   74.11   |   0.91    | 5.52e-06 \n",
      "  15    |   0.545767   |  0.572542  |   74.20   |   0.95    | 5.00e-06 \n",
      "  16    |   0.536367   |  0.566683  |   74.29   |   0.95    | 4.48e-06 \n",
      "  17    |   0.529155   |  0.561619  |   74.29   |   0.93    | 3.96e-06 \n",
      "  18    |   0.522806   |  0.557536  |   74.29   |   0.96    | 3.45e-06 \n",
      "  19    |   0.516244   |  0.554094  |   74.48   |   0.94    | 2.97e-06 \n",
      "  20    |   0.511363   |  0.551181  |   74.48   |   0.94    | 2.50e-06 \n",
      "  21    |   0.503660   |  0.548704  |   74.29   |   0.92    | 2.06e-06 \n",
      "  22    |   0.497613   |  0.546627  |   74.20   |   0.94    | 1.65e-06 \n",
      "  23    |   0.499325   |  0.545227  |   74.20   |   0.94    | 1.28e-06 \n",
      "  24    |   0.496049   |  0.544035  |   74.20   |   0.94    | 9.55e-07 \n",
      "  25    |   0.492163   |  0.543226  |   74.11   |   0.92    | 6.70e-07 \n",
      "  26    |   0.493873   |  0.542651  |   74.11   |   0.94    | 4.32e-07 \n",
      "  27    |   0.492854   |  0.542266  |   74.20   |   0.96    | 2.45e-07 \n",
      "  28    |   0.492478   |  0.542059  |   74.20   |   0.91    | 1.09e-07 \n",
      "  29    |   0.489306   |  0.541977  |   74.20   |   0.95    | 2.74e-08 \n",
      "  30    |   0.494144   |  0.541957  |   74.11   |   0.96    | 0.00e+00 \n",
      "\n",
      "\n",
      "Training complete! Best accuracy: 74.48%.\n"
     ]
    }
   ],
   "source": [
    "set_seed(42)\n",
    "mlp_static, optimizer = initilize_mlp_model(pretrained_embedding=embeddings,\n",
    "                                        freeze_embedding=True,\n",
    "                                        learning_rate=1e-5,\n",
    "                                        dropout=0.5)\n",
    "train(mlp_static, optimizer, train_dataloader, val_dataloader, epochs=30)"
   ]
  },
  {
   "attachments": {},
   "cell_type": "markdown",
   "metadata": {},
   "source": [
    "## MLP-non-static: fastText pretrained word vectors are fine-tuned during training.\n",
    "\n",
    "We can also fine-tune the pre-trained word vectors during the training process. This means that the word vectors will be updated during the training process to minimize the loss function."
   ]
  },
  {
   "cell_type": "code",
   "execution_count": 36,
   "metadata": {},
   "outputs": [
    {
     "name": "stdout",
     "output_type": "stream",
     "text": [
      "18600\n",
      "Start training...\n",
      "\n",
      " Epoch  |  Train Loss  |  Val Loss  |  Val Acc  |  Elapsed  | current_lr\n",
      "----------------------------------------------------------------------\n",
      "   1    |   0.693422   |  0.691364  |   51.14   |   3.91    | 9.97e-06 \n",
      "   2    |   0.690545   |  0.688799  |   51.14   |   3.98    | 9.89e-06 \n",
      "   3    |   0.686271   |  0.684525  |   53.41   |   3.59    | 9.76e-06 \n",
      "   4    |   0.679614   |  0.677980  |   58.04   |   3.60    | 9.57e-06 \n",
      "   5    |   0.671530   |  0.669215  |   64.40   |   3.60    | 9.33e-06 \n",
      "   6    |   0.661588   |  0.659171  |   68.76   |   3.59    | 9.05e-06 \n",
      "   7    |   0.647302   |  0.647135  |   70.57   |   3.66    | 8.72e-06 \n",
      "   8    |   0.630862   |  0.634056  |   71.83   |   3.63    | 8.35e-06 \n",
      "   9    |   0.616558   |  0.620939  |   73.20   |   3.67    | 7.94e-06 \n",
      "  10    |   0.598552   |  0.607669  |   73.74   |   3.74    | 7.50e-06 \n",
      "  11    |   0.583036   |  0.595344  |   74.02   |   3.74    | 7.03e-06 \n",
      "  12    |   0.566307   |  0.583762  |   74.29   |   3.72    | 6.55e-06 \n",
      "  13    |   0.553351   |  0.573537  |   74.39   |   3.76    | 6.04e-06 \n",
      "  14    |   0.539965   |  0.564640  |   74.29   |   3.70    | 5.52e-06 \n",
      "  15    |   0.525948   |  0.556601  |   74.93   |   3.88    | 5.00e-06 \n",
      "  16    |   0.515069   |  0.549891  |   74.84   |   3.76    | 4.48e-06 \n",
      "  17    |   0.506301   |  0.544074  |   74.75   |   3.67    | 3.96e-06 \n",
      "  18    |   0.498712   |  0.539462  |   75.02   |   3.73    | 3.45e-06 \n",
      "  19    |   0.490818   |  0.535473  |   75.02   |   3.69    | 2.97e-06 \n",
      "  20    |   0.484884   |  0.532138  |   75.20   |   3.69    | 2.50e-06 \n",
      "  21    |   0.476525   |  0.529350  |   75.20   |   3.72    | 2.06e-06 \n",
      "  22    |   0.469299   |  0.526936  |   75.20   |   3.74    | 1.65e-06 \n",
      "  23    |   0.470783   |  0.525417  |   74.75   |   3.73    | 1.28e-06 \n",
      "  24    |   0.466759   |  0.524047  |   74.84   |   3.72    | 9.55e-07 \n",
      "  25    |   0.462597   |  0.523127  |   74.75   |   3.69    | 6.70e-07 \n",
      "  26    |   0.464203   |  0.522489  |   74.75   |   3.72    | 4.32e-07 \n",
      "  27    |   0.463472   |  0.522072  |   74.84   |   3.71    | 2.45e-07 \n",
      "  28    |   0.462750   |  0.521842  |   74.84   |   3.72    | 1.09e-07 \n",
      "  29    |   0.459126   |  0.521754  |   74.84   |   3.73    | 2.74e-08 \n",
      "  30    |   0.464295   |  0.521732  |   74.84   |   3.72    | 0.00e+00 \n",
      "\n",
      "\n",
      "Training complete! Best accuracy: 75.20%.\n"
     ]
    }
   ],
   "source": [
    "# MLP-non-static: fastText pretrained word vectors are fine-tuned during training.\n",
    "set_seed(42)\n",
    "mlp_non_static, optimizer = initilize_mlp_model(pretrained_embedding=embeddings,\n",
    "                                            freeze_embedding=False,\n",
    "                                            learning_rate=1e-5,\n",
    "                                            dropout=0.5)\n",
    "train(mlp_non_static, optimizer, train_dataloader, val_dataloader, epochs=30)"
   ]
  },
  {
   "cell_type": "code",
   "execution_count": 37,
   "metadata": {},
   "outputs": [],
   "source": [
    "def predict(text, model=mlp_non_static, max_len=62):\n",
    "    \"\"\"Predict probability that a review is positive.\"\"\"\n",
    "\n",
    "    # Tokenize, pad and encode text\n",
    "    tokens = word_tokenize(text.lower())\n",
    "    padded_tokens = tokens + ['<pad>'] * (max_len - len(tokens))\n",
    "    input_id = [word2idx.get(token, word2idx['<unk>']) for token in padded_tokens]\n",
    "\n",
    "    # Convert to PyTorch tensors\n",
    "    input_id = torch.tensor(input_id).unsqueeze(dim=0)\n",
    "\n",
    "    # Compute logits\n",
    "    logits = model.forward(input_id)\n",
    "\n",
    "    #  Compute probability\n",
    "    probs = nn.functional.softmax(logits, dim=1).squeeze(dim=0)\n",
    "\n",
    "    print(f\"This review is {probs[1] * 100:.2f}% positive.\")"
   ]
  },
  {
   "cell_type": "code",
   "execution_count": 46,
   "metadata": {},
   "outputs": [
    {
     "name": "stdout",
     "output_type": "stream",
     "text": [
      "This review is 57.81% positive.\n",
      "This review is 33.48% positive.\n",
      "This review is 48.55% positive.\n",
      "This review is 27.41% positive.\n",
      "This review is 30.83% positive.\n"
     ]
    }
   ],
   "source": [
    "predict(\"I loved the movie!!\")\n",
    "predict(\"What a waste of time\")\n",
    "predict(\"All of friends slept while watching this movie. But I really enjoyed it.\")\n",
    "predict(\"This movie is lway too long and boring.\")\n",
    "predict(\"I don't like the ending. It's not good.\")"
   ]
  },
  {
   "attachments": {},
   "cell_type": "markdown",
   "metadata": {},
   "source": [
    "---"
   ]
  },
  {
   "attachments": {},
   "cell_type": "markdown",
   "metadata": {},
   "source": [
    "# References\n",
    "* https://towardsdatascience.com/handwritten-digit-mnist-pytorch-977b5338e627\n",
    "* https://chriskhanhtran.github.io/posts/cnn-sentence-classification/"
   ]
  }
 ],
 "metadata": {
  "kernelspec": {
   "display_name": "dl4ds",
   "language": "python",
   "name": "python3"
  },
  "language_info": {
   "codemirror_mode": {
    "name": "ipython",
    "version": 3
   },
   "file_extension": ".py",
   "mimetype": "text/x-python",
   "name": "python",
   "nbconvert_exporter": "python",
   "pygments_lexer": "ipython3",
   "version": "3.9.18"
  },
  "orig_nbformat": 4
 },
 "nbformat": 4,
 "nbformat_minor": 2
}
