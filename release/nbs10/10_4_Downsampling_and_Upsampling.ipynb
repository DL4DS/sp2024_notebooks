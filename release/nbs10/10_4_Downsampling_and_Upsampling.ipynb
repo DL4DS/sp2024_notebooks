{
 "cells": [
  {
   "cell_type": "markdown",
   "metadata": {},
   "source": [
    "While editing this notebook, don't change cell types as that confuses the autograder.\n",
    "\n",
    "Before you turn this notebook in, make sure everything runs as expected. First, **restart the kernel** (in the menubar, select Kernel $\\rightarrow$ Restart) and then **run all cells** (in the menubar, select Cell $\\rightarrow$ Run All).\n",
    "\n",
    "Make sure you fill in any place that says `YOUR CODE HERE` or \"YOUR ANSWER HERE\", as well as your name below:"
   ]
  },
  {
   "cell_type": "code",
   "execution_count": null,
   "metadata": {},
   "outputs": [],
   "source": [
    "NAME = \"\""
   ]
  },
  {
   "cell_type": "markdown",
   "metadata": {},
   "source": [
    "_Understanding Deep Learning_"
   ]
  },
  {
   "cell_type": "markdown",
   "metadata": {},
   "source": [
    "---"
   ]
  },
  {
   "cell_type": "markdown",
   "metadata": {
    "colab_type": "text",
    "id": "view-in-github"
   },
   "source": [
    "<a href=\"https://colab.research.google.com/github/udlbook/udlbook/blob/main/Notebooks/Chap10/10_4_Downsampling_and_Upsampling.ipynb\" target=\"_parent\"><img src=\"https://colab.research.google.com/assets/colab-badge.svg\" alt=\"Open In Colab\"/></a>"
   ]
  },
  {
   "cell_type": "markdown",
   "metadata": {
    "deletable": false,
    "editable": false,
    "id": "t9vk9Elugvmi",
    "nbgrader": {
     "cell_type": "markdown",
     "checksum": "636985717f669e1c240a6ea92d5a2193",
     "grade": false,
     "grade_id": "cell-52b894c4c97bcadf",
     "locked": true,
     "schema_version": 3,
     "solution": false,
     "task": false
    }
   },
   "source": [
    "# Notebook 10.4: Downsampling and Upsampling\n",
    "\n",
    "This notebook investigates the down sampling and downsampling methods discussed in section 10.4 of the book.\n",
    "\n",
    "Adapted from notebooks at https://github.com/udlbook/udlbook.\n"
   ]
  },
  {
   "cell_type": "code",
   "execution_count": null,
   "metadata": {
    "deletable": false,
    "editable": false,
    "id": "YrXWAH7sUWvU",
    "nbgrader": {
     "cell_type": "code",
     "checksum": "548c1934162123030f13ba96a6349af7",
     "grade": false,
     "grade_id": "cell-146cbf417cc23ea7",
     "locked": true,
     "schema_version": 3,
     "solution": false,
     "task": false
    }
   },
   "outputs": [],
   "source": [
    "import numpy as np\n",
    "import matplotlib.pyplot as plt\n",
    "from PIL import Image\n",
    "from numpy import asarray"
   ]
  },
  {
   "cell_type": "code",
   "execution_count": null,
   "metadata": {
    "deletable": false,
    "editable": false,
    "id": "WPRoJcC_JXE2",
    "nbgrader": {
     "cell_type": "code",
     "checksum": "bb44e2c670f38b01cdeb6333bb1cb162",
     "grade": false,
     "grade_id": "cell-8e0befe5aaaea51c",
     "locked": true,
     "schema_version": 3,
     "solution": false,
     "task": false
    }
   },
   "outputs": [],
   "source": [
    "# Define 4 by 4 original patch\n",
    "orig_4_4 = np.array([[1, 3, 5,3 ], [6,2,0,8], [4,6,1,4], [2,8,0,3]])\n",
    "print(orig_4_4)"
   ]
  },
  {
   "cell_type": "code",
   "execution_count": null,
   "metadata": {
    "deletable": false,
    "id": "qneyOiZRJubi",
    "nbgrader": {
     "cell_type": "code",
     "checksum": "ad0d855bd394505b917a8dfd4b758fdf",
     "grade": false,
     "grade_id": "cell-2101ab4f07f8010b",
     "locked": false,
     "schema_version": 3,
     "solution": true,
     "task": false
    }
   },
   "outputs": [],
   "source": [
    "def subsample(x_in):\n",
    "  x_out = np.zeros(( int(np.ceil(x_in.shape[0]/2)), int(np.ceil(x_in.shape[1]/2)) ))\n",
    "  # TO DO -- write the subsampling routine\n",
    "  \n",
    "  x_out = None\n",
    "  \n",
    "  # YOUR CODE HERE\n",
    "  raise NotImplementedError()\n",
    "\n",
    "  return x_out"
   ]
  },
  {
   "cell_type": "code",
   "execution_count": null,
   "metadata": {
    "deletable": false,
    "editable": false,
    "id": "O_i0y72_JwGZ",
    "nbgrader": {
     "cell_type": "code",
     "checksum": "1743cef1fb205dde21968929990fcb95",
     "grade": false,
     "grade_id": "cell-f4f802a4d794c5d3",
     "locked": true,
     "schema_version": 3,
     "solution": false,
     "task": false
    }
   },
   "outputs": [],
   "source": [
    "print(\"Original:\")\n",
    "print(orig_4_4)\n",
    "print(\"Subsampled:\")\n",
    "print(subsample(orig_4_4))"
   ]
  },
  {
   "cell_type": "code",
   "execution_count": null,
   "metadata": {
    "deletable": false,
    "editable": false,
    "nbgrader": {
     "cell_type": "code",
     "checksum": "96174cb41f873a817ad255c6e57dec76",
     "grade": true,
     "grade_id": "cell-c26794d0fc0e7f66",
     "locked": true,
     "points": 1,
     "schema_version": 3,
     "solution": false,
     "task": false
    }
   },
   "outputs": [],
   "source": [
    "# Don't modify this cell.\n",
    "# Hidden tests will check the outputs of the function subsample.\n"
   ]
  },
  {
   "cell_type": "markdown",
   "metadata": {
    "deletable": false,
    "editable": false,
    "id": "AobyC8IILbCO",
    "nbgrader": {
     "cell_type": "markdown",
     "checksum": "451cce7f6ac7b69d8470d60a228e8a75",
     "grade": false,
     "grade_id": "cell-cc1d52ebe20a5859",
     "locked": true,
     "schema_version": 3,
     "solution": false,
     "task": false
    }
   },
   "source": [
    "Let's try that on an image to get a feel for how it works:"
   ]
  },
  {
   "cell_type": "code",
   "execution_count": null,
   "metadata": {
    "deletable": false,
    "editable": false,
    "nbgrader": {
     "cell_type": "code",
     "checksum": "e9bbfbcfec744c276ed646e76093c79e",
     "grade": false,
     "grade_id": "cell-b9594ca6438754b3",
     "locked": true,
     "schema_version": 3,
     "solution": false,
     "task": false
    }
   },
   "outputs": [],
   "source": [
    "import requests\n",
    "import os\n",
    "\n",
    "# check if image already exists and then download if it doesn't\n",
    "if not os.path.exists('test_image.png'):\n",
    "  url = 'https://raw.githubusercontent.com/udlbook/udlbook/main/Notebooks/Chap10/test_image.png'\n",
    "  response = requests.get(url)\n",
    "\n",
    "  # Make sure the download was successful\n",
    "  response.raise_for_status()\n",
    "\n",
    "  # Write the content of the response to a file\n",
    "  with open('test_image.png', 'wb') as f:\n",
    "      f.write(response.content)\n"
   ]
  },
  {
   "cell_type": "code",
   "execution_count": null,
   "metadata": {
    "deletable": false,
    "editable": false,
    "id": "HCZVutk6NB6B",
    "nbgrader": {
     "cell_type": "code",
     "checksum": "8941d71732f3a5ed14a67a193794cb26",
     "grade": false,
     "grade_id": "cell-6a51696b51b443ae",
     "locked": true,
     "schema_version": 3,
     "solution": false,
     "task": false
    }
   },
   "outputs": [],
   "source": [
    "# load the image\n",
    "image = Image.open('test_image.png')\n",
    "# convert image to numpy array\n",
    "data = asarray(image)\n",
    "print('Image data shape:', data.shape)\n",
    "\n",
    "data_subsample = subsample(data);\n",
    "\n",
    "plt.figure(figsize=(5,5))\n",
    "plt.imshow(data, cmap='gray')\n",
    "plt.show()\n",
    "\n",
    "print('Subsampled data shape:', data_subsample.shape)\n",
    "\n",
    "plt.figure(figsize=(5,5))\n",
    "plt.imshow(data_subsample, cmap='gray')\n",
    "plt.show()\n",
    "\n",
    "data_subsample2 = subsample(data_subsample)\n",
    "print('Subsampled data shape:', data_subsample2.shape)\n",
    "\n",
    "plt.figure(figsize=(5,5))\n",
    "plt.imshow(data_subsample2, cmap='gray')\n",
    "plt.show()\n",
    "\n",
    "data_subsample3 = subsample(data_subsample2)\n",
    "\n",
    "print('Subsampled data shape:', data_subsample3.shape)\n",
    "plt.figure(figsize=(5,5))\n",
    "plt.imshow(data_subsample3, cmap='gray')\n",
    "plt.show()"
   ]
  },
  {
   "cell_type": "markdown",
   "metadata": {
    "deletable": false,
    "editable": false,
    "nbgrader": {
     "cell_type": "markdown",
     "checksum": "61677222d5eab841908441025b260e39",
     "grade": false,
     "grade_id": "cell-fed10e8ca2eb0f25",
     "locked": true,
     "schema_version": 3,
     "solution": false,
     "task": false
    }
   },
   "source": [
    "As a bit of an aside. The person in the image is 80s pop star [Rick Astley](https://en.wikipedia.org/wiki/Rick_Astley).\n",
    "He became popular again as part of an internet meme called [Rickrolling](https://en.wikipedia.org/wiki/Rickrolling)."
   ]
  },
  {
   "cell_type": "code",
   "execution_count": null,
   "metadata": {
    "deletable": false,
    "id": "Z99uYehaPtJa",
    "nbgrader": {
     "cell_type": "code",
     "checksum": "74d433dc4e8bcb858bfd5116e5015b6a",
     "grade": false,
     "grade_id": "cell-593cfa4d822d0cbc",
     "locked": false,
     "schema_version": 3,
     "solution": true,
     "task": false
    }
   },
   "outputs": [],
   "source": [
    "# Now let's try max-pooling\n",
    "def maxpool(x_in):\n",
    "  x_out = np.zeros(( int(np.floor(x_in.shape[0]/2)), int(np.floor(x_in.shape[1]/2)) ))\n",
    "\n",
    "  # TO DO -- write the maxpool routine\n",
    "  \n",
    "  # YOUR CODE HERE\n",
    "  raise NotImplementedError()\n",
    "\n",
    "  return x_out"
   ]
  },
  {
   "cell_type": "code",
   "execution_count": null,
   "metadata": {
    "deletable": false,
    "editable": false,
    "id": "J4KMTMmG9P44",
    "nbgrader": {
     "cell_type": "code",
     "checksum": "f8e465257eacafc973eb0914d3ab16c4",
     "grade": false,
     "grade_id": "cell-50ea495ad3067224",
     "locked": true,
     "schema_version": 3,
     "solution": false,
     "task": false
    }
   },
   "outputs": [],
   "source": [
    "print(\"Original:\")\n",
    "print(orig_4_4)\n",
    "print(\"Maxpooled:\")\n",
    "print(maxpool(orig_4_4))"
   ]
  },
  {
   "cell_type": "code",
   "execution_count": null,
   "metadata": {
    "deletable": false,
    "editable": false,
    "nbgrader": {
     "cell_type": "code",
     "checksum": "780c0dbff4fdcdc6e5eb65b2686d8f58",
     "grade": true,
     "grade_id": "cell-f3b2b89732eb8cfd",
     "locked": true,
     "points": 1,
     "schema_version": 3,
     "solution": false,
     "task": false
    }
   },
   "outputs": [],
   "source": [
    "# Don't modify this cell.\n",
    "# Hidden tests will check the outputs of the function maxpool.\n"
   ]
  },
  {
   "cell_type": "code",
   "execution_count": null,
   "metadata": {
    "deletable": false,
    "editable": false,
    "id": "0ES0sB8t9Wyv",
    "nbgrader": {
     "cell_type": "code",
     "checksum": "4a70296c9300965b7e8adfbccafe4d5a",
     "grade": false,
     "grade_id": "cell-d2bce9d827e6dcab",
     "locked": true,
     "schema_version": 3,
     "solution": false,
     "task": false
    }
   },
   "outputs": [],
   "source": [
    "# Let's see what Rick looks like:\n",
    "data_maxpool = maxpool(data);\n",
    "\n",
    "print('Data shape:', data.shape)\n",
    "plt.figure(figsize=(5,5))\n",
    "plt.imshow(data, cmap='gray')\n",
    "plt.show()\n",
    "\n",
    "print('Maxpooled data shape:', data_maxpool.shape)\n",
    "plt.figure(figsize=(5,5))\n",
    "plt.imshow(data_maxpool, cmap='gray')\n",
    "plt.show()\n",
    "\n",
    "data_maxpool2 = maxpool(data_maxpool)\n",
    "print('Maxpooled data shape:', data_maxpool2.shape)\n",
    "\n",
    "plt.figure(figsize=(5,5))\n",
    "plt.imshow(data_maxpool2, cmap='gray')\n",
    "plt.show()\n",
    "\n",
    "data_maxpool3 = maxpool(data_maxpool2)\n",
    "print('Maxpooled data shape:', data_maxpool3.shape)\n",
    "\n",
    "plt.figure(figsize=(5,5))\n",
    "plt.imshow(data_maxpool3, cmap='gray')\n",
    "plt.show()"
   ]
  },
  {
   "cell_type": "markdown",
   "metadata": {
    "deletable": false,
    "editable": false,
    "id": "nMtSdBGlAktq",
    "nbgrader": {
     "cell_type": "markdown",
     "checksum": "7b51ed21576d8114719d775f62d355a6",
     "grade": false,
     "grade_id": "cell-d958f87e82f00cb3",
     "locked": true,
     "schema_version": 3,
     "solution": false,
     "task": false
    }
   },
   "source": [
    "You can see that the stripes on his shirt gradually turn to white because we keep retaining the brightest local pixels."
   ]
  },
  {
   "cell_type": "code",
   "execution_count": null,
   "metadata": {
    "deletable": false,
    "id": "ZQBjBtmB_aGQ",
    "nbgrader": {
     "cell_type": "code",
     "checksum": "81f197029acafc4db1d44533141e2205",
     "grade": false,
     "grade_id": "cell-468935a69aa07bf1",
     "locked": false,
     "schema_version": 3,
     "solution": true,
     "task": false
    }
   },
   "outputs": [],
   "source": [
    "# Finally, let's try mean pooling\n",
    "def meanpool(x_in):\n",
    "  x_out = np.zeros(( int(np.floor(x_in.shape[0]/2)), int(np.floor(x_in.shape[1]/2)) ))\n",
    "  # TO DO -- write the meanpool routine\n",
    "  # Replace this line\n",
    "  x_out = x_out\n",
    "\n",
    "  # YOUR CODE HERE\n",
    "  raise NotImplementedError()\n",
    "\n",
    "  return x_out"
   ]
  },
  {
   "cell_type": "code",
   "execution_count": null,
   "metadata": {
    "deletable": false,
    "editable": false,
    "id": "N4VDlWNt_8dp",
    "nbgrader": {
     "cell_type": "code",
     "checksum": "fc27d5234eec4ef93f2a5f88dc50b946",
     "grade": false,
     "grade_id": "cell-9549ca552ebc4058",
     "locked": true,
     "schema_version": 3,
     "solution": false,
     "task": false
    }
   },
   "outputs": [],
   "source": [
    "print(\"Original:\")\n",
    "print(orig_4_4)\n",
    "print(\"Meanpooled:\")\n",
    "print(meanpool(orig_4_4))"
   ]
  },
  {
   "cell_type": "code",
   "execution_count": null,
   "metadata": {
    "deletable": false,
    "editable": false,
    "nbgrader": {
     "cell_type": "code",
     "checksum": "260e2944c8a69e5212fc5eb14e8558b8",
     "grade": true,
     "grade_id": "cell-0e928d4803c9593c",
     "locked": true,
     "points": 1,
     "schema_version": 3,
     "solution": false,
     "task": false
    }
   },
   "outputs": [],
   "source": [
    "# Don't modify this cell.\n",
    "# Hidden tests will check the outputs of the function meanpool.\n"
   ]
  },
  {
   "cell_type": "code",
   "execution_count": null,
   "metadata": {
    "deletable": false,
    "editable": false,
    "id": "Lkg5zUYo_-IV",
    "nbgrader": {
     "cell_type": "code",
     "checksum": "095a607d7b7b34d55d4fb49c065bde00",
     "grade": false,
     "grade_id": "cell-28738997535c9bde",
     "locked": true,
     "schema_version": 3,
     "solution": false,
     "task": false
    }
   },
   "outputs": [],
   "source": [
    "# Let's see what Rick looks like:\n",
    "data_meanpool = meanpool(data);\n",
    "\n",
    "print('Data shape:', data.shape)\n",
    "plt.figure(figsize=(5,5))\n",
    "plt.imshow(data, cmap='gray')\n",
    "plt.show()\n",
    "\n",
    "print('Meanpooled data shape:', data_meanpool.shape)\n",
    "plt.figure(figsize=(5,5))\n",
    "plt.imshow(data_meanpool, cmap='gray')\n",
    "plt.show()\n",
    "\n",
    "data_meanpool2 = meanpool(data_maxpool)\n",
    "print('Meanpooled data shape:', data_meanpool2.shape)\n",
    "\n",
    "plt.figure(figsize=(5,5))\n",
    "plt.imshow(data_meanpool2, cmap='gray')\n",
    "plt.show()\n",
    "\n",
    "data_meanpool3 = meanpool(data_meanpool2)\n",
    "print('Meanpooled data shape:', data_meanpool3.shape)\n",
    "\n",
    "plt.figure(figsize=(5,5))\n",
    "plt.imshow(data_meanpool3, cmap='gray')\n",
    "plt.show()"
   ]
  },
  {
   "cell_type": "markdown",
   "metadata": {
    "deletable": false,
    "editable": false,
    "id": "J7VssF4pBf2y",
    "nbgrader": {
     "cell_type": "markdown",
     "checksum": "827e627c225d9a4e3a017ab828cf9b21",
     "grade": false,
     "grade_id": "cell-532b75bb6ca952fd",
     "locked": true,
     "schema_version": 3,
     "solution": false,
     "task": false
    }
   },
   "source": [
    "Notice that the three low resolution images look quite different. <br>\n",
    "\n",
    "Now let's upscale them again"
   ]
  },
  {
   "cell_type": "code",
   "execution_count": null,
   "metadata": {
    "deletable": false,
    "editable": false,
    "id": "Q4N7i76FA_YH",
    "nbgrader": {
     "cell_type": "code",
     "checksum": "5f77d10fd7527cf2a6ea0cf50ebaaf85",
     "grade": false,
     "grade_id": "cell-b050b8382671b4e4",
     "locked": true,
     "schema_version": 3,
     "solution": false,
     "task": false
    }
   },
   "outputs": [],
   "source": [
    "# Define 2 by 2 original patch\n",
    "orig_2_2 = np.array([[2, 4], [4,8]])\n",
    "print(orig_2_2)"
   ]
  },
  {
   "cell_type": "code",
   "execution_count": null,
   "metadata": {
    "deletable": false,
    "id": "6eSjnl3cB5g4",
    "nbgrader": {
     "cell_type": "code",
     "checksum": "723215f82967e965919577e4b843eb8d",
     "grade": false,
     "grade_id": "cell-2e98bfe029dcfe36",
     "locked": false,
     "schema_version": 3,
     "solution": true,
     "task": false
    }
   },
   "outputs": [],
   "source": [
    "# Let's first use the duplication method\n",
    "def duplicate(x_in):\n",
    "  x_out = np.zeros(( x_in.shape[0]*2, x_in.shape[1]*2 ))\n",
    "  # TO DO -- write the duplication routine\n",
    "\n",
    "  # YOUR CODE HERE\n",
    "  raise NotImplementedError()\n",
    "  \n",
    "  return x_out"
   ]
  },
  {
   "cell_type": "code",
   "execution_count": null,
   "metadata": {
    "deletable": false,
    "editable": false,
    "id": "4FtRcvXrFLg7",
    "nbgrader": {
     "cell_type": "code",
     "checksum": "148f177db585eebaae03f138c31235d5",
     "grade": false,
     "grade_id": "cell-b4a8becbed1fba12",
     "locked": true,
     "schema_version": 3,
     "solution": false,
     "task": false
    }
   },
   "outputs": [],
   "source": [
    "print(\"Original:\")\n",
    "print(orig_2_2)\n",
    "print(\"Duplicated:\")\n",
    "print(duplicate(orig_2_2))"
   ]
  },
  {
   "cell_type": "code",
   "execution_count": null,
   "metadata": {
    "deletable": false,
    "editable": false,
    "nbgrader": {
     "cell_type": "code",
     "checksum": "87ff0553c2bb3ec7ffd25f2be66dcaf5",
     "grade": true,
     "grade_id": "cell-86c82fb14c1f7891",
     "locked": true,
     "points": 1,
     "schema_version": 3,
     "solution": false,
     "task": false
    }
   },
   "outputs": [],
   "source": [
    "# Don't modify this cell.\n",
    "# Hidden tests will check the outputs of the function duplicate.\n"
   ]
  },
  {
   "cell_type": "code",
   "execution_count": null,
   "metadata": {
    "deletable": false,
    "editable": false,
    "id": "agq0YN34FQfA",
    "nbgrader": {
     "cell_type": "code",
     "checksum": "1cc459db9a9b24dd458062698094107d",
     "grade": false,
     "grade_id": "cell-fd12194036f403e8",
     "locked": true,
     "schema_version": 3,
     "solution": false,
     "task": false
    }
   },
   "outputs": [],
   "source": [
    "# Let's re-upsample, sub-sampled rick\n",
    "data_duplicate = duplicate(data_subsample3);\n",
    "\n",
    "print('Data shape:', data_subsample3.shape)\n",
    "plt.figure(figsize=(5,5))\n",
    "plt.imshow(data_subsample3, cmap='gray')\n",
    "plt.show()\n",
    "\n",
    "print('Duplicated data shape:', data_duplicate.shape)\n",
    "plt.figure(figsize=(5,5))\n",
    "plt.imshow(data_duplicate, cmap='gray')\n",
    "plt.show()\n",
    "\n",
    "data_duplicate2 = duplicate(data_duplicate)\n",
    "print('Duplicated data shape:', data_duplicate2.shape)\n",
    "\n",
    "plt.figure(figsize=(5,5))\n",
    "plt.imshow(data_duplicate2, cmap='gray')\n",
    "plt.show()\n",
    "\n",
    "data_duplicate3 = duplicate(data_duplicate2)\n",
    "print('Duplicated data shape:', data_duplicate3.shape)\n",
    "\n",
    "plt.figure(figsize=(5,5))\n",
    "plt.imshow(data_duplicate3, cmap='gray')\n",
    "plt.show()"
   ]
  },
  {
   "cell_type": "markdown",
   "metadata": {
    "deletable": false,
    "editable": false,
    "id": "bCQrJ_M8GUFs",
    "nbgrader": {
     "cell_type": "markdown",
     "checksum": "6575c92ba6ca7e48dc1092689d8a22c9",
     "grade": false,
     "grade_id": "cell-2aac3754b08aaa32",
     "locked": true,
     "schema_version": 3,
     "solution": false,
     "task": false
    }
   },
   "source": [
    "They look the same, but if you look at the axes, you'll see that the pixels are just duplicated."
   ]
  },
  {
   "cell_type": "code",
   "execution_count": null,
   "metadata": {
    "deletable": false,
    "id": "uDUDChmBF71_",
    "nbgrader": {
     "cell_type": "code",
     "checksum": "e5511a2bd01373a1f277a92a792d3a2c",
     "grade": false,
     "grade_id": "cell-b849633083078b25",
     "locked": false,
     "schema_version": 3,
     "solution": true,
     "task": false
    }
   },
   "outputs": [],
   "source": [
    "# Now let's try max pooling back up\n",
    "# The input x_high_res is the original high res image, from which you can deduce the position of the maximum index\n",
    "def max_unpool(x_in, x_high_res):\n",
    "  x_out = np.zeros(( x_in.shape[0]*2, x_in.shape[1]*2 ))\n",
    "  # TO DO -- write the subsampling routine\n",
    "\n",
    "  # YOUR CODE HERE\n",
    "  raise NotImplementedError()\n",
    "      \n",
    "  return x_out"
   ]
  },
  {
   "cell_type": "code",
   "execution_count": null,
   "metadata": {
    "deletable": false,
    "editable": false,
    "id": "EmjptCVNHq74",
    "nbgrader": {
     "cell_type": "code",
     "checksum": "785071039ef39d237fc81365df0efe70",
     "grade": false,
     "grade_id": "cell-ce39bb3a9fbd4ebe",
     "locked": true,
     "schema_version": 3,
     "solution": false,
     "task": false
    }
   },
   "outputs": [],
   "source": [
    "print(\"Original 4x4:\")\n",
    "print(orig_4_4)\n",
    "print(\"Original:\")\n",
    "print(orig_2_2)\n",
    "print(\"Max unpooled:\")\n",
    "print(max_unpool(orig_2_2,orig_4_4))"
   ]
  },
  {
   "cell_type": "code",
   "execution_count": null,
   "metadata": {
    "deletable": false,
    "editable": false,
    "nbgrader": {
     "cell_type": "code",
     "checksum": "ab81983bca563971e7e5daa6b4d26135",
     "grade": true,
     "grade_id": "cell-15de22048f609bb9",
     "locked": true,
     "points": 1,
     "schema_version": 3,
     "solution": false,
     "task": false
    }
   },
   "outputs": [],
   "source": [
    "# Don't modify this cell.\n",
    "# Hidden tests will check the outputs of the function max_unpool.\n"
   ]
  },
  {
   "cell_type": "code",
   "execution_count": null,
   "metadata": {
    "deletable": false,
    "editable": false,
    "id": "SSPhTuV6H4ZH",
    "nbgrader": {
     "cell_type": "code",
     "checksum": "fe163bd50b25611fe6bcc76fcea71b09",
     "grade": false,
     "grade_id": "cell-61824adfda2427e0",
     "locked": true,
     "schema_version": 3,
     "solution": false,
     "task": false
    }
   },
   "outputs": [],
   "source": [
    "# Let's re-upsample, sub-sampled rick\n",
    "data_max_unpool= max_unpool(data_maxpool3,data_maxpool2);\n",
    "\n",
    "print('Data shape:', data_maxpool3.shape)\n",
    "plt.figure(figsize=(5,5))\n",
    "plt.imshow(data_maxpool3, cmap='gray')\n",
    "plt.show()\n",
    "\n",
    "print('Max unpooled data shape:', data_max_unpool.shape)\n",
    "plt.figure(figsize=(5,5))\n",
    "plt.imshow(data_max_unpool, cmap='gray')\n",
    "plt.show()\n",
    "\n",
    "data_max_unpool2 = max_unpool(data_max_unpool, data_maxpool)\n",
    "print('Max unpooled data shape:', data_max_unpool2.shape)\n",
    "\n",
    "plt.figure(figsize=(5,5))\n",
    "plt.imshow(data_max_unpool2, cmap='gray')\n",
    "plt.show()\n",
    "\n",
    "data_max_unpool3 = max_unpool(data_max_unpool2, data)\n",
    "print('Max unpooled data shape:', data_max_unpool3.shape)\n",
    "\n",
    "plt.figure(figsize=(5,5))\n",
    "plt.imshow(data_max_unpool3, cmap='gray')\n",
    "plt.show()"
   ]
  },
  {
   "cell_type": "markdown",
   "metadata": {
    "deletable": false,
    "editable": false,
    "id": "sBx36bvbJHrK",
    "nbgrader": {
     "cell_type": "markdown",
     "checksum": "f2fc07a584ab45c75d7ed2a4c6425721",
     "grade": false,
     "grade_id": "cell-54c5aea4b2d2ea91",
     "locked": true,
     "schema_version": 3,
     "solution": false,
     "task": false
    }
   },
   "source": [
    "Finally, we'll try upsampling using bilinear interpolation.  We'll treat the positions off the image as zeros by padding the original image and round fractional values upwards using np.ceil()"
   ]
  },
  {
   "cell_type": "code",
   "execution_count": null,
   "metadata": {
    "deletable": false,
    "id": "00XpfQo3Ivdf",
    "nbgrader": {
     "cell_type": "code",
     "checksum": "6d7e02d8478a945267e0c492f190585b",
     "grade": false,
     "grade_id": "cell-da09c3d9e9a66934",
     "locked": false,
     "schema_version": 3,
     "solution": true,
     "task": false
    }
   },
   "outputs": [],
   "source": [
    "def bilinear(x_in):\n",
    "  x_out = np.zeros(( x_in.shape[0]*2, x_in.shape[1]*2 ))\n",
    "  x_in_pad = np.zeros((x_in.shape[0]+1, x_in.shape[1]+1))\n",
    "  x_in_pad[0:x_in.shape[0],0:x_in.shape[1]] = x_in\n",
    "  # TO DO -- write the duplication routine\n",
    "\n",
    "  # YOUR CODE HERE\n",
    "  raise NotImplementedError()\n",
    "\n",
    "  return x_out"
   ]
  },
  {
   "cell_type": "code",
   "execution_count": null,
   "metadata": {
    "deletable": false,
    "editable": false,
    "id": "qI5oRVCCNRob",
    "nbgrader": {
     "cell_type": "code",
     "checksum": "cf59acfdb50897ae22be9563be335267",
     "grade": false,
     "grade_id": "cell-d64ef9505a427635",
     "locked": true,
     "schema_version": 3,
     "solution": false,
     "task": false
    }
   },
   "outputs": [],
   "source": [
    "print(\"Original:\")\n",
    "print(orig_2_2)\n",
    "print(\"Bilinear:\")\n",
    "print(bilinear(orig_2_2))"
   ]
  },
  {
   "cell_type": "code",
   "execution_count": null,
   "metadata": {
    "deletable": false,
    "editable": false,
    "nbgrader": {
     "cell_type": "code",
     "checksum": "7f26c26720308bfc9e892d6efc68a744",
     "grade": true,
     "grade_id": "cell-895cf3801547ddd0",
     "locked": true,
     "points": 1,
     "schema_version": 3,
     "solution": false,
     "task": false
    }
   },
   "outputs": [],
   "source": [
    "# Don't modify this cell.\n",
    "# Hidden tests will check the outputs of the function bilinear.\n"
   ]
  },
  {
   "cell_type": "code",
   "execution_count": null,
   "metadata": {
    "deletable": false,
    "editable": false,
    "id": "4m0bkhdmNRec",
    "nbgrader": {
     "cell_type": "code",
     "checksum": "0f3079f47da8dfcd0526a93d94718c7c",
     "grade": false,
     "grade_id": "cell-5fc9aa48d778ed7f",
     "locked": true,
     "schema_version": 3,
     "solution": false,
     "task": false
    }
   },
   "outputs": [],
   "source": [
    "# Let's re-upsample, sub-sampled rick\n",
    "data_bilinear = bilinear(data_meanpool3);\n",
    "\n",
    "plt.figure(figsize=(5,5))\n",
    "plt.imshow(data_meanpool3, cmap='gray')\n",
    "plt.show()\n",
    "\n",
    "plt.figure(figsize=(5,5))\n",
    "plt.imshow(data_bilinear, cmap='gray')\n",
    "plt.show()\n",
    "\n",
    "data_bilinear2 = bilinear(data_bilinear)\n",
    "plt.figure(figsize=(5,5))\n",
    "plt.imshow(data_bilinear2, cmap='gray')\n",
    "plt.show()\n",
    "\n",
    "data_bilinear3 = duplicate(data_bilinear2)\n",
    "plt.figure(figsize=(5,5))\n",
    "plt.imshow(data_bilinear3, cmap='gray')\n",
    "plt.show()"
   ]
  },
  {
   "cell_type": "markdown",
   "metadata": {
    "deletable": false,
    "editable": false,
    "nbgrader": {
     "cell_type": "markdown",
     "checksum": "cb8cf65ccd9038ebcab58a70695a6a56",
     "grade": false,
     "grade_id": "cell-f6c6b70d620801c8",
     "locked": true,
     "schema_version": 3,
     "solution": false,
     "task": false
    }
   },
   "source": [
    "All done!"
   ]
  }
 ],
 "metadata": {
  "colab": {
   "authorship_tag": "ABX9TyMbSR8fzpXvO6TIQdO7bI0H",
   "include_colab_link": true,
   "provenance": []
  },
  "kernelspec": {
   "display_name": "Python 3 (ipykernel)",
   "language": "python",
   "name": "python3"
  },
  "language_info": {
   "codemirror_mode": {
    "name": "ipython",
    "version": 3
   },
   "file_extension": ".py",
   "mimetype": "text/x-python",
   "name": "python",
   "nbconvert_exporter": "python",
   "pygments_lexer": "ipython3",
   "version": "3.11.5"
  }
 },
 "nbformat": 4,
 "nbformat_minor": 4
}
